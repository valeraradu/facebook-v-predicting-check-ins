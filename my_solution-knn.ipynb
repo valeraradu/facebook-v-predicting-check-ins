{
 "cells": [
  {
   "cell_type": "code",
   "execution_count": 1,
   "metadata": {
    "collapsed": false
   },
   "outputs": [],
   "source": [
    "import multiprocessing\n",
    "from multiprocessing import Process\n",
    "from multiprocessing import Manager\n",
    "\n",
    "import math\n",
    "import xgboost as xgb\n",
    "from sklearn.linear_model import LogisticRegression\n",
    "import pandas as pd\n",
    "import numpy as np\n",
    "import datetime\n",
    "import time\n",
    "import os\n",
    "from sklearn.ensemble import GradientBoostingClassifier\n",
    "from sklearn.ensemble import RandomForestClassifier\n",
    "from ml_metrics import mapk\n",
    "from sklearn.preprocessing import LabelEncoder\n",
    "from sklearn.neighbors import KNeighborsClassifier\n",
    "\n",
    "pd.options.mode.chained_assignment = None  # default='warn'"
   ]
  },
  {
   "cell_type": "code",
   "execution_count": 2,
   "metadata": {
    "collapsed": false
   },
   "outputs": [],
   "source": [
    "def apply_weights(df, fw):\n",
    "    df['accuracy'] *= fw[0]\n",
    "    df['day_of_year_sin'] *= fw[1]\n",
    "    df['day_of_year_cos'] *= fw[1]\n",
    "    df['minute_sin'] *= fw[2]\n",
    "    df['minute_cos'] *= fw[2]\n",
    "    df['weekday_sin'] *= fw[3]\n",
    "    df['weekday_cos'] *= fw[3]\n",
    "    #df.x *= fw[4]\n",
    "    #df.y *= fw[5]\n",
    "    df['year'] *= fw[6]\n",
    "    return df\n",
    "\n",
    "def prepare_data(df):\n",
    "    minute = 2*np.pi*((df[\"time\"]//5)%288)/288\n",
    "    df['minute_sin'] = (np.sin(minute)+1).round(4)\n",
    "    df['minute_cos'] = (np.cos(minute)+1).round(4)\n",
    "    del minute\n",
    "    day = 2*np.pi*((df['time']//1440)%365)/365\n",
    "    df['day_of_year_sin'] = (np.sin(day)+1).round(4)\n",
    "    df['day_of_year_cos'] = (np.cos(day)+1).round(4)\n",
    "    del day\n",
    "    weekday = 2*np.pi*((df['time']//1440)%7)/7\n",
    "    df['weekday_sin'] = (np.sin(weekday)+1).round(4)\n",
    "    df['weekday_cos'] = (np.cos(weekday)+1).round(4)\n",
    "    del weekday\n",
    "    df['year'] = (df['time']//525600).astype(float)\n",
    "    #df.drop(['time'], axis=1, inplace=True)\n",
    "    df['accuracy'] = np.log10(df['accuracy']).astype(float)\n",
    "    return df\n",
    "\n",
    "train = pd.read_csv('./input/train.csv')\n",
    "test = pd.read_csv('./input/test.csv')\n",
    "\n",
    "train = prepare_data(train)\n",
    "test = prepare_data(test)\n",
    "\n",
    "fw = [0.61,0.32435, 0.56525, 0.2670, 22, 52, 0.51885]\n",
    "\n",
    "train = apply_weights(train, fw)\n",
    "test = apply_weights(test, fw)"
   ]
  },
  {
   "cell_type": "code",
   "execution_count": 3,
   "metadata": {
    "collapsed": false
   },
   "outputs": [],
   "source": [
    "def xfrange(start, end, step):\n",
    "    gens = [];\n",
    "    end = round(end, 2)\n",
    "    start = round(start, 2)\n",
    "    while(start < end):\n",
    "        gens.append(start)\n",
    "        start = round(start + step, 2)\n",
    "            \n",
    "    return gens\n",
    "        \n",
    "        \n",
    "def gen_ranges(start, end, step):\n",
    "    return zip(xfrange(start, end, step), xfrange(start + step, end + step, step));\n",
    "\n",
    "size = 10.0;\n",
    "\n",
    "x_step = 1.0\n",
    "y_step = 0.4\n",
    "\n",
    "x_ranges = gen_ranges(0, size, x_step);\n",
    "y_ranges = gen_ranges(0, size, y_step);"
   ]
  },
  {
   "cell_type": "code",
   "execution_count": 4,
   "metadata": {
    "collapsed": false
   },
   "outputs": [],
   "source": [
    "size_cv = 10.0;\n",
    "\n",
    "x_cv_start = 0;\n",
    "x_cv_end = x_cv_start + size_cv\n",
    "y_cv_start = 0;\n",
    "y_cv_end = y_cv_start + size_cv;\n",
    "\n",
    "x_ranges_cv = gen_ranges(x_cv_start, x_cv_end, x_step);\n",
    "y_ranges_cv = gen_ranges(y_cv_start, y_cv_end, y_step);\n",
    "\n",
    "cv = train[(train['x'] >= x_cv_start) & \n",
    "           (train['x'] <= x_cv_end) &\n",
    "           (train['y'] >= y_cv_start) &\n",
    "           (train['y'] <= y_cv_end)]\n",
    "\n",
    "cv = cv.sort_values(by='time', axis=0, ascending=True)\n",
    "train_cv = cv[cv.shape[0]//8:]\n",
    "test_cv = cv[:cv.shape[0]//8]"
   ]
  },
  {
   "cell_type": "code",
   "execution_count": 5,
   "metadata": {
    "collapsed": false
   },
   "outputs": [
    {
     "name": "stdout",
     "output_type": "stream",
     "text": [
      "(29118021, 13)\n",
      "(25478269, 13)\n",
      "(3639752, 13)\n"
     ]
    }
   ],
   "source": [
    "print cv.shape\n",
    "print train_cv.shape\n",
    "print test_cv.shape"
   ]
  },
  {
   "cell_type": "code",
   "execution_count": 8,
   "metadata": {
    "collapsed": false,
    "scrolled": false
   },
   "outputs": [],
   "source": [
    "def calculate_distance(distances):\n",
    "    return distances ** -2.225\n",
    "\n",
    "def process_column(x_min, x_max, y_ranges, x_end, y_end, train_column, test_column, preds_total):\n",
    "    start_time_column = time.time()\n",
    "    preds_total[x_min] = pd.DataFrame();\n",
    "    for y_min, y_max in  y_ranges: \n",
    "        \n",
    "            start_time_cell = time.time()\n",
    "\n",
    "            if y_max == y_end:\n",
    "                y_max = y_max + 0.001\n",
    "            \n",
    "            train_cell = train_column[(train_column['y'] >= y_min - 0.017) &\n",
    "                                      (train_column['y'] < y_max + 0.017)]\n",
    "            \n",
    "            train_cell = train_cell.drop(['time'], axis=1)\n",
    "            train_cell = train_cell.groupby(\"place_id\").filter(lambda x: len(x) >= 8)\n",
    "\n",
    "            test_cell = test_column[(test_column['y'] >= y_min) &\n",
    "                                    (test_column['y'] < y_max)]\n",
    "            \n",
    "            row_ids = test_cell['row_id'].reset_index(drop=True);\n",
    "            test_cell = test_cell.drop(['row_id', 'time'], axis=1)\n",
    "            \n",
    "            #Feature engineering on x and y\n",
    "            train_cell.loc[:,'x'] *= fw[4]\n",
    "            train_cell.loc[:,'y'] *= fw[5]\n",
    "            test_cell.loc[:,'x'] *= fw[4]\n",
    "            test_cell.loc[:,'y'] *= fw[5]\n",
    "            \n",
    "            le = LabelEncoder()\n",
    "\n",
    "            y = le.fit_transform(train_cell.place_id.values)\n",
    "            X = train_cell.drop(['row_id', 'place_id'], axis=1)\n",
    "\n",
    "            #Applying the classifier\n",
    "            cte = 5.8\n",
    "            n_neighbors = int((y.size ** 0.5) / cte)\n",
    "            clf = KNeighborsClassifier(n_neighbors=n_neighbors,\n",
    "                            weights=calculate_distance, p=1, \n",
    "                            n_jobs=2, leaf_size=15)\n",
    "\n",
    "            clf.fit(X, y)\n",
    "\n",
    "            y_pred = clf.predict_proba(test_cell.values)\n",
    "\n",
    "            y_pred = clf.predict_proba(test_cell.values)\n",
    "            preds = le.inverse_transform(np.argsort(y_pred, axis=1)[:,::-1][:,:3]) \n",
    "            preds = pd.DataFrame.from_dict(preds)\n",
    "            preds['row_id'] = row_ids;\n",
    "            preds = preds.set_index('row_id')\n",
    "            preds.index.name = 'row_id';\n",
    "\n",
    "            preds_total[x_min] = pd.concat([preds_total[x_min], preds], axis=0);\n",
    "            \n",
    "    print(\"Elapsed time column: %s minutes\" % ((time.time() - start_time_column)/60))\n",
    "\n",
    "def modelq(x_ranges, y_ranges, x_end, y_end, train, test):   \n",
    "    start_time = time.time()\n",
    "    jobs = []\n",
    "    mgr = Manager()\n",
    "    preds_total = mgr.dict();\n",
    "\n",
    "    for x_min, x_max in  x_ranges:\n",
    "        \n",
    "        if x_max == x_end:\n",
    "            x_max = x_max + 0.001\n",
    "                \n",
    "        train_column = train[(train['x'] >= x_min - 0.05) &\n",
    "                             (train['x'] < x_max + 0.05)]\n",
    "        \n",
    "        test_column = test[(test['x'] >= x_min) &\n",
    "                             (test['x'] < x_max)]\n",
    "        \n",
    "        p = multiprocessing.Process(target=process_column, args=(x_min, x_max, y_ranges, \\\n",
    "                                                                 x_end, y_end, train_column, test_column, preds_total))\n",
    "        jobs.append(p)\n",
    "        p.start()\n",
    "        if len(jobs) == 5:\n",
    "            for proc in jobs:\n",
    "                proc.join();\n",
    "            jobs = [];\n",
    "        \n",
    "    print(\"Elapsed time overall: %s minutes\" % ((time.time() - start_time)/60))\n",
    "    \n",
    "    preds_total = pd.concat(preds_total.values(), axis=0);\n",
    "    print preds_total.shape\n",
    "    \n",
    "    return preds_total.sort_index();"
   ]
  },
  {
   "cell_type": "code",
   "execution_count": 9,
   "metadata": {
    "collapsed": false,
    "scrolled": false
   },
   "outputs": [
    {
     "name": "stdout",
     "output_type": "stream",
     "text": [
      "Elapsed time column: 3.12429431677 minutes\n",
      "Elapsed time column: 3.30709615151 minutes\n",
      "Elapsed time column: 3.3712097168 minutes\n",
      "Elapsed time column: 3.36353240013 minutes\n",
      "Elapsed time column: 3.57280368408 minutes\n",
      "Elapsed time column: 2.83974711498 minutes\n",
      "Elapsed time column: 3.20833914677 minutes\n",
      "Elapsed time column: 3.19278701544 minutes\n",
      "Elapsed time column: 3.27259593407 minutes\n",
      "Elapsed time column: 3.35424630245 minutes\n",
      "Elapsed time overall: 7.04358919859 minutes\n",
      "(3639752, 3)\n"
     ]
    },
    {
     "name": "stderr",
     "output_type": "stream",
     "text": [
      "/Library/Python/2.7/site-packages/ipykernel/__main__.py:3: FutureWarning: sort(....) is deprecated, use sort_index(.....)\n",
      "  app.launch_new_instance()\n"
     ]
    },
    {
     "name": "stdout",
     "output_type": "stream",
     "text": [
      "0.693093467174\n"
     ]
    }
   ],
   "source": [
    "predictions = modelq(x_ranges_cv, y_ranges_cv, x_cv_end, y_cv_end, train_cv, \n",
    "                    test_cv.drop(['place_id'], axis=1));\n",
    "actual = test_cv[['place_id']].sort();\n",
    "print mapk(np.array([actual.values.flatten()]).T, predictions.values, 3)"
   ]
  },
  {
   "cell_type": "code",
   "execution_count": 76,
   "metadata": {
    "collapsed": false
   },
   "outputs": [
    {
     "name": "stderr",
     "output_type": "stream",
     "text": [
      "/Library/Python/2.7/site-packages/ipykernel/__main__.py:4: SettingWithCopyWarning: \n",
      "A value is trying to be set on a copy of a slice from a DataFrame.\n",
      "Try using .loc[row_indexer,col_indexer] = value instead\n",
      "\n",
      "See the caveats in the documentation: http://pandas.pydata.org/pandas-docs/stable/indexing.html#indexing-view-versus-copy\n",
      "/Library/Python/2.7/site-packages/ipykernel/__main__.py:5: SettingWithCopyWarning: \n",
      "A value is trying to be set on a copy of a slice from a DataFrame.\n",
      "Try using .loc[row_indexer,col_indexer] = value instead\n",
      "\n",
      "See the caveats in the documentation: http://pandas.pydata.org/pandas-docs/stable/indexing.html#indexing-view-versus-copy\n",
      "/Library/Python/2.7/site-packages/ipykernel/__main__.py:9: SettingWithCopyWarning: \n",
      "A value is trying to be set on a copy of a slice from a DataFrame.\n",
      "Try using .loc[row_indexer,col_indexer] = value instead\n",
      "\n",
      "See the caveats in the documentation: http://pandas.pydata.org/pandas-docs/stable/indexing.html#indexing-view-versus-copy\n",
      "/Library/Python/2.7/site-packages/ipykernel/__main__.py:10: SettingWithCopyWarning: \n",
      "A value is trying to be set on a copy of a slice from a DataFrame.\n",
      "Try using .loc[row_indexer,col_indexer] = value instead\n",
      "\n",
      "See the caveats in the documentation: http://pandas.pydata.org/pandas-docs/stable/indexing.html#indexing-view-versus-copy\n",
      "/Library/Python/2.7/site-packages/ipykernel/__main__.py:12: SettingWithCopyWarning: \n",
      "A value is trying to be set on a copy of a slice from a DataFrame.\n",
      "Try using .loc[row_indexer,col_indexer] = value instead\n",
      "\n",
      "See the caveats in the documentation: http://pandas.pydata.org/pandas-docs/stable/indexing.html#indexing-view-versus-copy\n",
      "/Library/Python/2.7/site-packages/ipykernel/__main__.py:13: SettingWithCopyWarning: \n",
      "A value is trying to be set on a copy of a slice from a DataFrame.\n",
      "Try using .loc[row_indexer,col_indexer] = value instead\n",
      "\n",
      "See the caveats in the documentation: http://pandas.pydata.org/pandas-docs/stable/indexing.html#indexing-view-versus-copy\n"
     ]
    },
    {
     "name": "stdout",
     "output_type": "stream",
     "text": [
      "Elapsed time row: 20.984288617 minutes\n",
      "Elapsed time row: 27.7590901176 minutes\n",
      "Elapsed time row: 28.7786113143 minutes\n",
      "Elapsed time row: 30.570629251 minutes\n",
      "Elapsed time row: 34.0028994521 minutes\n",
      "Elapsed time row: 37.6347986142 minutes\n",
      "Elapsed time row: 37.047338899 minutes\n",
      "Elapsed time row: 38.242803216 minutes\n",
      "Elapsed time row: 36.5508922497 minutes\n",
      "Elapsed time row: 34.3818624655 minutes\n",
      "Elapsed time row: 36.3424279849 minutes\n",
      "Elapsed time row: 33.8832034826 minutes\n",
      "Elapsed time row: 33.35711145 minutes\n",
      "Elapsed time row: 33.5121737679 minutes\n",
      "Elapsed time row: 36.0588709633 minutes\n",
      "Elapsed time row: 33.1081194162 minutes\n",
      "Elapsed time row: 30.2188024998 minutes\n",
      "Elapsed time row: 29.7511512518 minutes\n",
      "Elapsed time row: 28.0056342999 minutes\n",
      "Elapsed time row: 23.5284121513 minutes\n",
      "Elapsed time overall: 643.719177636 minutes\n"
     ]
    }
   ],
   "source": [
    "clf = KNeighborsClassifier(n_neighbors=29, weights='distance', \n",
    "                                       metric='manhattan', n_jobs=-1)\n",
    "\n",
    "preds_total = modelq(x_ranges, y_ranges, size, size, train, test, 5)\n",
    "preds_total['place_id'] = preds_total['l1'].apply(str) + ' ' + preds_total['l2'].apply(str) + ' ' + preds_total['l3'].apply(str);\n",
    "preds_total['place_id'].to_csv('summed_total_fix_submitable.csv', header=True);"
   ]
  },
  {
   "cell_type": "code",
   "execution_count": 77,
   "metadata": {
    "collapsed": true
   },
   "outputs": [],
   "source": [
    "preds_total['place_id'] = preds_total['l1'].apply(str) + ' ' + preds_total['l2'].apply(str) + ' ' + preds_total['l3'].apply(str);"
   ]
  },
  {
   "cell_type": "code",
   "execution_count": 78,
   "metadata": {
    "collapsed": true
   },
   "outputs": [],
   "source": [
    "preds_total['place_id'].to_csv('summed_total_fix_submitable.csv', header=True);"
   ]
  },
  {
   "cell_type": "code",
   "execution_count": null,
   "metadata": {
    "collapsed": true
   },
   "outputs": [],
   "source": []
  }
 ],
 "metadata": {
  "kernelspec": {
   "display_name": "Python 2",
   "language": "python",
   "name": "python2"
  },
  "language_info": {
   "codemirror_mode": {
    "name": "ipython",
    "version": 2
   },
   "file_extension": ".py",
   "mimetype": "text/x-python",
   "name": "python",
   "nbconvert_exporter": "python",
   "pygments_lexer": "ipython2",
   "version": "2.7.10"
  }
 },
 "nbformat": 4,
 "nbformat_minor": 0
}
