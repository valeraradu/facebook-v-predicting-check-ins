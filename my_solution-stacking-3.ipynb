{
 "cells": [
  {
   "cell_type": "code",
   "execution_count": 1,
   "metadata": {
    "collapsed": false
   },
   "outputs": [],
   "source": [
    "import multiprocessing\n",
    "from multiprocessing import Process\n",
    "from multiprocessing import Manager\n",
    "\n",
    "import math\n",
    "import xgboost\n",
    "from sklearn.linear_model import LogisticRegression\n",
    "import pandas as pd\n",
    "import numpy as np\n",
    "import datetime\n",
    "import time\n",
    "import os\n",
    "from sklearn.ensemble import GradientBoostingClassifier\n",
    "from sklearn.ensemble import RandomForestClassifier\n",
    "from ml_metrics import mapk\n",
    "from sklearn.preprocessing import LabelEncoder\n",
    "from sklearn.neighbors import KNeighborsClassifier\n",
    "\n",
    "pd.options.mode.chained_assignment = None  # default='warn'"
   ]
  },
  {
   "cell_type": "code",
   "execution_count": 2,
   "metadata": {
    "collapsed": true
   },
   "outputs": [],
   "source": [
    "train = pd.read_csv('./input/train.csv')\n",
    "test = pd.read_csv('./input/test.csv')"
   ]
  },
  {
   "cell_type": "code",
   "execution_count": 10,
   "metadata": {
    "collapsed": false
   },
   "outputs": [
    {
     "name": "stdout",
     "output_type": "stream",
     "text": [
      "[(0.0, 0.833333333333), (0.833333333333, 1.666666666667), (1.666666666667, 2.5), (2.5, 3.333333333333), (3.333333333333, 4.166666666667), (4.166666666667, 5.0), (5.0, 5.833333333333), (5.833333333333, 6.666666666667), (6.666666666667, 7.5), (7.5, 8.333333333333), (8.333333333333, 9.166666666667), (9.166666666667, 10.0)]\n",
      "[(0.0, 0.4), (0.4, 0.8), (0.8, 1.2), (1.2, 1.6), (1.6, 2.0), (2.0, 2.4), (2.4, 2.8), (2.8, 3.2), (3.2, 3.6), (3.6, 4.0), (4.0, 4.4), (4.4, 4.8), (4.8, 5.2), (5.2, 5.6), (5.6, 6.0), (6.0, 6.4), (6.4, 6.8), (6.8, 7.2), (7.2, 7.6), (7.6, 8.0), (8.0, 8.4), (8.4, 8.8), (8.8, 9.2), (9.2, 9.6), (9.6, 10.0)]\n"
     ]
    }
   ],
   "source": [
    "def xfrange(start, end, step):\n",
    "    gens = [];\n",
    "    end = round(end, 5)\n",
    "    start = round(start, 5)\n",
    "    while(start < end):\n",
    "        gens.append(start)\n",
    "        start = round(start + step, 5)\n",
    "            \n",
    "    return gens\n",
    "\n",
    "def xfrangeq(start, end, n_steps):\n",
    "    gens = [];\n",
    "    x_slice = (end - start) / n_steps\n",
    "    for i in range(n_steps):\n",
    "        x_min = start + x_slice * i\n",
    "        gens.append(round(x_min,12))\n",
    "\n",
    "    return gens\n",
    "\n",
    "def gen_ranges(start, end, step):\n",
    "    return zip(xfrange(start, end, step), xfrange(start + step, end + step, step));\n",
    "\n",
    "def gen_rangesq(start, end, n_steps):\n",
    "    return zip(xfrangeq(start, end, n_steps), xfrangeq(end/n_steps, end + end/n_steps, n_steps));\n",
    "\n",
    "size = 10.0;\n",
    "x_step = 10.0/12.0\n",
    "y_step = 0.4\n",
    "\n",
    "x_ranges = gen_rangesq(0, size, 12);\n",
    "y_ranges = gen_rangesq(0, size, 25);\n",
    "\n",
    "print x_ranges\n",
    "print y_ranges"
   ]
  },
  {
   "cell_type": "code",
   "execution_count": 4,
   "metadata": {
    "collapsed": false
   },
   "outputs": [
    {
     "name": "stdout",
     "output_type": "stream",
     "text": [
      "(29118021, 6)\n",
      "(21838516, 6)\n",
      "(7279505, 6)\n"
     ]
    }
   ],
   "source": [
    "size_cv = 10.0;\n",
    "\n",
    "x_cv_start = 0;\n",
    "x_cv_end = x_cv_start + size_cv\n",
    "y_cv_start = 0;\n",
    "y_cv_end = y_cv_start + size_cv;\n",
    "\n",
    "cv = train[(train['x'] >= x_cv_start) & \n",
    "           (train['x'] <= x_cv_end) &\n",
    "           (train['y'] >= y_cv_start) &\n",
    "           (train['y'] <= y_cv_end)]\n",
    "\n",
    "cv = cv.sort_values(by='time', axis=0, ascending=True)\n",
    "train_cv = cv[cv.shape[0]//4:]\n",
    "test_cv = cv[:cv.shape[0]//4]\n",
    "\n",
    "print cv.shape\n",
    "print train_cv.shape\n",
    "print test_cv.shape"
   ]
  },
  {
   "cell_type": "code",
   "execution_count": 63,
   "metadata": {
    "collapsed": false
   },
   "outputs": [
    {
     "name": "stdout",
     "output_type": "stream",
     "text": [
      "[(9.166666666667, 10.0)]\n",
      "[(0.0, 0.4), (0.4, 0.8), (0.8, 1.2), (1.2, 1.6), (1.6, 2.0), (2.0, 2.4), (2.4, 2.8), (2.8, 3.2), (3.2, 3.6), (3.6, 4.0), (4.0, 4.4), (4.4, 4.8), (4.8, 5.2), (5.2, 5.6), (5.6, 6.0), (6.0, 6.4), (6.4, 6.8), (6.8, 7.2), (7.2, 7.6), (7.6, 8.0), (8.0, 8.4), (8.4, 8.8), (8.8, 9.2), (9.2, 9.6), (9.6, 10.0)]\n"
     ]
    }
   ],
   "source": [
    "x_ranges_cv = gen_rangesq(x_cv_start, x_cv_end, 1);\n",
    "y_ranges_cv = gen_rangesq(y_cv_start, y_cv_end, 25);\n",
    "\n",
    "print x_ranges_cv\n",
    "print y_ranges_cv"
   ]
  },
  {
   "cell_type": "code",
   "execution_count": null,
   "metadata": {
    "collapsed": true
   },
   "outputs": [],
   "source": [
    "for x_min, x_max in  x_ranges_cv:\n",
    "    step_x_small = 0.2\n",
    "    x_min_to_load = round(int(x_min/step_x_small)*step_x_small, 4)\n",
    "    for x_min_small in xfrange(x_min_to_load, x_max, step_x_small):\n",
    "        print x_min_small"
   ]
  },
  {
   "cell_type": "code",
   "execution_count": 66,
   "metadata": {
    "collapsed": false,
    "scrolled": false
   },
   "outputs": [],
   "source": [
    "def load_preds_from_disc(input_dir, x_min, y_min, x_end, y_end, x_max, y_max, step_x_small, step_y_small):\n",
    "    \n",
    "    x_min_to_load = round(int(x_min/step_x_small)*step_x_small, 4)\n",
    "    y_min_to_load = round(int(y_min/step_y_small)*step_y_small, 4)\n",
    "    \n",
    "    chunk_total = pd.DataFrame();\n",
    "    for x_min_small in xfrange(x_min_to_load, x_max, step_x_small):\n",
    "        \n",
    "        x_max_small = x_min_small + step_x_small\n",
    "        \n",
    "        if x_max_small == x_end:\n",
    "            x_max_small = x_end + 0.001\n",
    "        \n",
    "        for y_min_small in xfrange(y_min_to_load, y_max, step_y_small):\n",
    "            \n",
    "            y_max_small = y_min_small + step_y_small\n",
    "            \n",
    "            if y_max_small == y_end:\n",
    "                y_max_small = y_end + 0.001\n",
    "                \n",
    "            test_cell = test[(test['y'] >= y_min_small) &\n",
    "                             (test['y'] < y_max_small)&\n",
    "                             (test['x'] >= x_min_small) &\n",
    "                             (test['x'] < x_max_small)]\n",
    "            \n",
    "            row_ids = test_cell['row_id'].reset_index(drop=True);\n",
    "            \n",
    "            chunk = pd.read_csv(input_dir + str(x_min_small) + \"_\" + str(y_min_small) + \".csv\");\n",
    "            chunk.rename(columns = lambda x: int(x), inplace=True);\n",
    "            #print row_ids.shape\n",
    "            #print chunk.shape\n",
    "            chunk['row_id'] = row_ids;\n",
    "            chunk = chunk.set_index('row_id')\n",
    "            chunk_total = chunk_total.add(chunk, fill_value=0).fillna(value=0);\n",
    "                \n",
    "    return chunk_total;\n",
    "\n",
    "def process_column(x_min, x_max, y_ranges, x_end, y_end, train, test, preds_total):\n",
    "    start_time_column = time.time()\n",
    "    preds_total[x_min] = pd.DataFrame();\n",
    "    for y_min, y_max in  y_ranges: \n",
    "        start_time_cell = time.time()\n",
    "\n",
    "        preds_all = pd.read_csv('./raw/knn1.5+rf1-lb-58369/' + str(x_min) + \"_\" + str(y_min) + \".csv\", index_col='row_id')\n",
    "        preds_all.rename(columns = lambda x: int(x), inplace=True);\n",
    "        \n",
    "        #chunk_rf = pd.read_csv('./raw/cached/rf_50_gini+entropy_02_008_aug_0.05-0.017_th3_accuracy_adddata/'\n",
    "        #                       + str(x_min) + \"_\" + str(y_min) + \".csv\", index_col='row_id')\n",
    "\n",
    "        \n",
    "        chunk_rf = load_preds_from_disc('./raw/rf_50_gini+entropy_02_008_aug_0.05-0.017_th3_accuracy_adddata/',\n",
    "                                        x_min, y_min, 10.0, 10.0, x_max, y_max, 0.2, 0.08)\n",
    "        chunk_rf.rename(columns = lambda x: int(x), inplace=True);\n",
    "        \n",
    "        chunk_rf = chunk_rf[chunk_rf.index.isin(preds_all.index.values)]\n",
    "        chunk_rf.sort_index().to_csv('./raw/cached/rf_50_gini+entropy_02_008_aug_0.05-0.017_th3_accuracy_adddata/'\n",
    "                                     + str(x_min) + \"_\" + str(y_min) + \".csv\", index = True);\n",
    "        \n",
    "        #chunk_xgb = pd.read_csv('./raw/cached/xgb_150_02_008_extended_003-0015_th3_accuracy_adddata/'\n",
    "        #                       + str(x_min) + \"_\" + str(y_min) + \".csv\", index_col='row_id')\n",
    "        chunk_xgb = load_preds_from_disc('./raw/xgb_150_02_008_extended_003-0015_th3_accuracy_adddata/',\n",
    "                                        x_min, y_min, 10.0, 10.0, x_max, y_max, 0.2, 0.08)\n",
    "        chunk_xgb.rename(columns = lambda x: int(x), inplace=True);\n",
    "        \n",
    "        chunk_xgb = chunk_xgb[chunk_xgb.index.isin(preds_all.index.values)]\n",
    "        chunk_xgb.sort_index().to_csv('./raw/cached/xgb_150_02_008_extended_003-0015_th3_accuracy_adddata/'\n",
    "                                     + str(x_min) + \"_\" + str(y_min) + \".csv\", index = True);\n",
    "        \n",
    "        #chunk_rf = pd.read_csv('./raw/rf-lb-58369/' + str(x_min) + \"_\" + str(y_min) + \".csv\",\n",
    "        #                       index_col='row_id')\n",
    "        \n",
    "        '''for col in preds_all.columns:\n",
    "            preds_all[col] *= 1.5'''\n",
    "        \n",
    "        for col in chunk_rf.columns:\n",
    "            chunk_rf[col] *= 0.4\n",
    "            \n",
    "        for col in chunk_xgb.columns:\n",
    "            chunk_xgb[col] *= 0.2\n",
    "            \n",
    "        summed = preds_all.add(chunk_rf, fill_value=0).add(chunk_xgb, fill_value=0).fillna(value=0);\n",
    "        \n",
    "        #summed.to_csv('./raw/knn+rf-1.5-1-lb-58369/' + str(x_min) + \"_\" + str(y_min) + \".csv\", index_col='row_id')\n",
    "        \n",
    "        summed['l1'], summed['l2'], summed['l3'] = \\\n",
    "            zip(*summed.apply(lambda x: summed.columns[x.argsort()[::-1][:3]].tolist(), axis=1));\n",
    "            \n",
    "        summed = summed[['l1','l2','l3']];\n",
    "        preds_total[x_min] = pd.concat([preds_total[x_min], summed], axis=0);\n",
    "             \n",
    "    print(\"Elapsed time column: %s minutes\" % ((time.time() - start_time_column)/60))\n",
    "\n",
    "def model(x_ranges, y_ranges, x_end, y_end, train, test):   \n",
    "    start_time = time.time()\n",
    "    jobs = []\n",
    "    mgr = Manager()\n",
    "    preds_total = mgr.dict();\n",
    "\n",
    "    for x_min, x_max in  x_ranges:\n",
    "        \n",
    "        p = multiprocessing.Process(target=process_column, args=(x_min, x_max, y_ranges, \\\n",
    "                                                                 x_end, y_end, train, test, preds_total))\n",
    "        jobs.append(p)\n",
    "        p.start()\n",
    "        if len(jobs) == 1:\n",
    "            for proc in jobs:\n",
    "                proc.join();\n",
    "            jobs = [];\n",
    "        \n",
    "    print(\"Elapsed time overall: %s minutes\" % ((time.time() - start_time)/60))\n",
    "    \n",
    "    preds_total = pd.concat(preds_total.values(), axis=0);\n",
    "    print preds_total.shape\n",
    "    \n",
    "    return preds_total.sort_index();"
   ]
  },
  {
   "cell_type": "code",
   "execution_count": null,
   "metadata": {
    "collapsed": false
   },
   "outputs": [],
   "source": [
    "model(x_ranges_cv, y_ranges_cv, x_cv_end, y_cv_end, train_cv, test_cv.drop(['place_id'], axis=1));"
   ]
  },
  {
   "cell_type": "code",
   "execution_count": 62,
   "metadata": {
    "collapsed": false
   },
   "outputs": [
    {
     "name": "stderr",
     "output_type": "stream",
     "text": [
      "Process Process-269:\n",
      "Traceback (most recent call last):\n",
      "  File \"/System/Library/Frameworks/Python.framework/Versions/2.7/lib/python2.7/multiprocessing/process.py\", line 258, in _bootstrap\n",
      "    self.run()\n",
      "  File \"/System/Library/Frameworks/Python.framework/Versions/2.7/lib/python2.7/multiprocessing/process.py\", line 114, in run\n",
      "    self._target(*self._args, **self._kwargs)\n",
      "  File \"<ipython-input-59-796a4db134d1>\", line 48, in process_column\n",
      "    + str(x_min) + \"_\" + str(y_min) + \".csv\", index_col='row_id')\n",
      "  File \"/Library/Python/2.7/site-packages/pandas-0.17.1-py2.7-macosx-10.10-intel.egg/pandas/io/parsers.py\", line 498, in parser_f\n",
      "    return _read(filepath_or_buffer, kwds)\n",
      "  File \"/Library/Python/2.7/site-packages/pandas-0.17.1-py2.7-macosx-10.10-intel.egg/pandas/io/parsers.py\", line 275, in _read\n",
      "    parser = TextFileReader(filepath_or_buffer, **kwds)\n",
      "  File \"/Library/Python/2.7/site-packages/pandas-0.17.1-py2.7-macosx-10.10-intel.egg/pandas/io/parsers.py\", line 590, in __init__\n",
      "    self._make_engine(self.engine)\n",
      "  File \"/Library/Python/2.7/site-packages/pandas-0.17.1-py2.7-macosx-10.10-intel.egg/pandas/io/parsers.py\", line 731, in _make_engine\n",
      "    self._engine = CParserWrapper(self.f, **self.options)\n",
      "  File \"/Library/Python/2.7/site-packages/pandas-0.17.1-py2.7-macosx-10.10-intel.egg/pandas/io/parsers.py\", line 1103, in __init__\n",
      "    self._reader = _parser.TextReader(src, **kwds)\n",
      "  File \"pandas/parser.pyx\", line 353, in pandas.parser.TextReader.__cinit__ (pandas/parser.c:3246)\n",
      "  File \"pandas/parser.pyx\", line 591, in pandas.parser.TextReader._setup_parser_source (pandas/parser.c:6111)\n",
      "IOError: File ./raw/cached/rf_50_gini+entropy_02_008_aug_0.05-0.017_th3_accuracy_adddata/9.16666666667_0.0.csv does not exist\n",
      "Process Process-266:\n",
      "Traceback (most recent call last):\n",
      "Process Process-258:\n",
      "    self.run()\n",
      "  File \"/System/Library/Frameworks/Python.framework/Versions/2.7/lib/python2.7/multiprocessing/process.py\", line 258, in _bootstrap\n",
      "Traceback (most recent call last):\n",
      "  File \"/System/Library/Frameworks/Python.framework/Versions/2.7/lib/python2.7/multiprocessing/process.py\", line 258, in _bootstrap\n",
      "  File \"/System/Library/Frameworks/Python.framework/Versions/2.7/lib/python2.7/multiprocessing/process.py\", line 114, in run\n",
      "  File \"<ipython-input-59-796a4db134d1>\", line 87, in process_column\n",
      "    self._target(*self._args, **self._kwargs)\n",
      "    self.run()\n",
      "  File \"/System/Library/Frameworks/Python.framework/Versions/2.7/lib/python2.7/multiprocessing/process.py\", line 114, in run\n",
      "    self._target(*self._args, **self._kwargs)\n",
      "    summed['l1'], summed['l2'], summed['l3'] =             zip(*summed.apply(lambda x: summed.columns[x.argsort()[::-1][:3]].tolist(), axis=1));\n",
      "  File \"<ipython-input-59-796a4db134d1>\", line 87, in process_column\n"
     ]
    },
    {
     "ename": "KeyboardInterrupt",
     "evalue": "",
     "output_type": "error",
     "traceback": [
      "\u001b[0;31m---------------------------------------------------------------------------\u001b[0m",
      "\u001b[0;31mKeyboardInterrupt\u001b[0m                         Traceback (most recent call last)",
      "\u001b[0;32m<ipython-input-62-6bd5f654cb79>\u001b[0m in \u001b[0;36m<module>\u001b[0;34m()\u001b[0m\n\u001b[0;32m----> 1\u001b[0;31m \u001b[0mpredictions\u001b[0m \u001b[0;34m=\u001b[0m \u001b[0mmodel\u001b[0m\u001b[0;34m(\u001b[0m\u001b[0mx_ranges_cv\u001b[0m\u001b[0;34m,\u001b[0m \u001b[0my_ranges_cv\u001b[0m\u001b[0;34m,\u001b[0m \u001b[0mx_cv_end\u001b[0m\u001b[0;34m,\u001b[0m \u001b[0my_cv_end\u001b[0m\u001b[0;34m,\u001b[0m \u001b[0mtrain_cv\u001b[0m\u001b[0;34m,\u001b[0m \u001b[0mtest_cv\u001b[0m\u001b[0;34m.\u001b[0m\u001b[0mdrop\u001b[0m\u001b[0;34m(\u001b[0m\u001b[0;34m[\u001b[0m\u001b[0;34m'place_id'\u001b[0m\u001b[0;34m]\u001b[0m\u001b[0;34m,\u001b[0m \u001b[0maxis\u001b[0m\u001b[0;34m=\u001b[0m\u001b[0;36m1\u001b[0m\u001b[0;34m)\u001b[0m\u001b[0;34m)\u001b[0m\u001b[0;34m;\u001b[0m\u001b[0;34m\u001b[0m\u001b[0m\n\u001b[0m",
      "\u001b[0;32m<ipython-input-59-796a4db134d1>\u001b[0m in \u001b[0;36mmodel\u001b[0;34m(x_ranges, y_ranges, x_end, y_end, train, test)\u001b[0m\n\u001b[1;32m    105\u001b[0m         \u001b[0;32mif\u001b[0m \u001b[0mlen\u001b[0m\u001b[0;34m(\u001b[0m\u001b[0mjobs\u001b[0m\u001b[0;34m)\u001b[0m \u001b[0;34m==\u001b[0m \u001b[0;36m12\u001b[0m\u001b[0;34m:\u001b[0m\u001b[0;34m\u001b[0m\u001b[0m\n\u001b[1;32m    106\u001b[0m             \u001b[0;32mfor\u001b[0m \u001b[0mproc\u001b[0m \u001b[0;32min\u001b[0m \u001b[0mjobs\u001b[0m\u001b[0;34m:\u001b[0m\u001b[0;34m\u001b[0m\u001b[0m\n\u001b[0;32m--> 107\u001b[0;31m                 \u001b[0mproc\u001b[0m\u001b[0;34m.\u001b[0m\u001b[0mjoin\u001b[0m\u001b[0;34m(\u001b[0m\u001b[0;34m)\u001b[0m\u001b[0;34m;\u001b[0m\u001b[0;34m\u001b[0m\u001b[0m\n\u001b[0m\u001b[1;32m    108\u001b[0m             \u001b[0mjobs\u001b[0m \u001b[0;34m=\u001b[0m \u001b[0;34m[\u001b[0m\u001b[0;34m]\u001b[0m\u001b[0;34m;\u001b[0m\u001b[0;34m\u001b[0m\u001b[0m\n\u001b[1;32m    109\u001b[0m \u001b[0;34m\u001b[0m\u001b[0m\n",
      "\u001b[0;32m/System/Library/Frameworks/Python.framework/Versions/2.7/lib/python2.7/multiprocessing/process.pyc\u001b[0m in \u001b[0;36mjoin\u001b[0;34m(self, timeout)\u001b[0m\n\u001b[1;32m    143\u001b[0m         \u001b[0;32massert\u001b[0m \u001b[0mself\u001b[0m\u001b[0;34m.\u001b[0m\u001b[0m_parent_pid\u001b[0m \u001b[0;34m==\u001b[0m \u001b[0mos\u001b[0m\u001b[0;34m.\u001b[0m\u001b[0mgetpid\u001b[0m\u001b[0;34m(\u001b[0m\u001b[0;34m)\u001b[0m\u001b[0;34m,\u001b[0m \u001b[0;34m'can only join a child process'\u001b[0m\u001b[0;34m\u001b[0m\u001b[0m\n\u001b[1;32m    144\u001b[0m         \u001b[0;32massert\u001b[0m \u001b[0mself\u001b[0m\u001b[0;34m.\u001b[0m\u001b[0m_popen\u001b[0m \u001b[0;32mis\u001b[0m \u001b[0;32mnot\u001b[0m \u001b[0mNone\u001b[0m\u001b[0;34m,\u001b[0m \u001b[0;34m'can only join a started process'\u001b[0m\u001b[0;34m\u001b[0m\u001b[0m\n\u001b[0;32m--> 145\u001b[0;31m         \u001b[0mres\u001b[0m \u001b[0;34m=\u001b[0m \u001b[0mself\u001b[0m\u001b[0;34m.\u001b[0m\u001b[0m_popen\u001b[0m\u001b[0;34m.\u001b[0m\u001b[0mwait\u001b[0m\u001b[0;34m(\u001b[0m\u001b[0mtimeout\u001b[0m\u001b[0;34m)\u001b[0m\u001b[0;34m\u001b[0m\u001b[0m\n\u001b[0m\u001b[1;32m    146\u001b[0m         \u001b[0;32mif\u001b[0m \u001b[0mres\u001b[0m \u001b[0;32mis\u001b[0m \u001b[0;32mnot\u001b[0m \u001b[0mNone\u001b[0m\u001b[0;34m:\u001b[0m\u001b[0;34m\u001b[0m\u001b[0m\n\u001b[1;32m    147\u001b[0m             \u001b[0m_current_process\u001b[0m\u001b[0;34m.\u001b[0m\u001b[0m_children\u001b[0m\u001b[0;34m.\u001b[0m\u001b[0mdiscard\u001b[0m\u001b[0;34m(\u001b[0m\u001b[0mself\u001b[0m\u001b[0;34m)\u001b[0m\u001b[0;34m\u001b[0m\u001b[0m\n",
      "\u001b[0;32m/System/Library/Frameworks/Python.framework/Versions/2.7/lib/python2.7/multiprocessing/forking.pyc\u001b[0m in \u001b[0;36mwait\u001b[0;34m(self, timeout)\u001b[0m\n\u001b[1;32m    152\u001b[0m         \u001b[0;32mdef\u001b[0m \u001b[0mwait\u001b[0m\u001b[0;34m(\u001b[0m\u001b[0mself\u001b[0m\u001b[0;34m,\u001b[0m \u001b[0mtimeout\u001b[0m\u001b[0;34m=\u001b[0m\u001b[0mNone\u001b[0m\u001b[0;34m)\u001b[0m\u001b[0;34m:\u001b[0m\u001b[0;34m\u001b[0m\u001b[0m\n\u001b[1;32m    153\u001b[0m             \u001b[0;32mif\u001b[0m \u001b[0mtimeout\u001b[0m \u001b[0;32mis\u001b[0m \u001b[0mNone\u001b[0m\u001b[0;34m:\u001b[0m\u001b[0;34m\u001b[0m\u001b[0m\n\u001b[0;32m--> 154\u001b[0;31m                 \u001b[0;32mreturn\u001b[0m \u001b[0mself\u001b[0m\u001b[0;34m.\u001b[0m\u001b[0mpoll\u001b[0m\u001b[0;34m(\u001b[0m\u001b[0;36m0\u001b[0m\u001b[0;34m)\u001b[0m\u001b[0;34m\u001b[0m\u001b[0m\n\u001b[0m\u001b[1;32m    155\u001b[0m             \u001b[0mdeadline\u001b[0m \u001b[0;34m=\u001b[0m \u001b[0mtime\u001b[0m\u001b[0;34m.\u001b[0m\u001b[0mtime\u001b[0m\u001b[0;34m(\u001b[0m\u001b[0;34m)\u001b[0m \u001b[0;34m+\u001b[0m \u001b[0mtimeout\u001b[0m\u001b[0;34m\u001b[0m\u001b[0m\n\u001b[1;32m    156\u001b[0m             \u001b[0mdelay\u001b[0m \u001b[0;34m=\u001b[0m \u001b[0;36m0.0005\u001b[0m\u001b[0;34m\u001b[0m\u001b[0m\n",
      "\u001b[0;32m/System/Library/Frameworks/Python.framework/Versions/2.7/lib/python2.7/multiprocessing/forking.pyc\u001b[0m in \u001b[0;36mpoll\u001b[0;34m(self, flag)\u001b[0m\n\u001b[1;32m    133\u001b[0m                 \u001b[0;32mwhile\u001b[0m \u001b[0mTrue\u001b[0m\u001b[0;34m:\u001b[0m\u001b[0;34m\u001b[0m\u001b[0m\n\u001b[1;32m    134\u001b[0m                     \u001b[0;32mtry\u001b[0m\u001b[0;34m:\u001b[0m\u001b[0;34m\u001b[0m\u001b[0m\n\u001b[0;32m--> 135\u001b[0;31m                         \u001b[0mpid\u001b[0m\u001b[0;34m,\u001b[0m \u001b[0msts\u001b[0m \u001b[0;34m=\u001b[0m \u001b[0mos\u001b[0m\u001b[0;34m.\u001b[0m\u001b[0mwaitpid\u001b[0m\u001b[0;34m(\u001b[0m\u001b[0mself\u001b[0m\u001b[0;34m.\u001b[0m\u001b[0mpid\u001b[0m\u001b[0;34m,\u001b[0m \u001b[0mflag\u001b[0m\u001b[0;34m)\u001b[0m\u001b[0;34m\u001b[0m\u001b[0m\n\u001b[0m\u001b[1;32m    136\u001b[0m                     \u001b[0;32mexcept\u001b[0m \u001b[0mos\u001b[0m\u001b[0;34m.\u001b[0m\u001b[0merror\u001b[0m \u001b[0;32mas\u001b[0m \u001b[0me\u001b[0m\u001b[0;34m:\u001b[0m\u001b[0;34m\u001b[0m\u001b[0m\n\u001b[1;32m    137\u001b[0m                         \u001b[0;32mif\u001b[0m \u001b[0me\u001b[0m\u001b[0;34m.\u001b[0m\u001b[0merrno\u001b[0m \u001b[0;34m==\u001b[0m \u001b[0merrno\u001b[0m\u001b[0;34m.\u001b[0m\u001b[0mEINTR\u001b[0m\u001b[0;34m:\u001b[0m\u001b[0;34m\u001b[0m\u001b[0m\n",
      "\u001b[0;31mKeyboardInterrupt\u001b[0m: "
     ]
    },
    {
     "name": "stderr",
     "output_type": "stream",
     "text": [
      "    summed['l1'], summed['l2'], summed['l3'] =             zip(*summed.apply(lambda x: summed.columns[x.argsort()[::-1][:3]].tolist(), axis=1));\n",
      "KeyboardInterrupt\n",
      "  File \"/Library/Python/2.7/site-packages/pandas-0.17.1-py2.7-macosx-10.10-intel.egg/pandas/core/frame.py\", line 3972, in apply\n",
      "    return self._apply_standard(f, axis, reduce=reduce)\n",
      "  File \"/Library/Python/2.7/site-packages/pandas-0.17.1-py2.7-macosx-10.10-intel.egg/pandas/core/frame.py\", line 4026, in _apply_standard\n",
      "    labels=labels)\n",
      "  File \"pandas/src/reduce.pyx\", line 613, in pandas.lib.reduce (pandas/lib.c:43773)\n",
      "Process Process-264:\n",
      "  File \"pandas/src/reduce.pyx\", line 132, in pandas.lib.Reducer.get_result (pandas/lib.c:33913)\n",
      "Traceback (most recent call last):\n",
      "  File \"<ipython-input-59-796a4db134d1>\", line 87, in <lambda>\n",
      "  File \"/System/Library/Frameworks/Python.framework/Versions/2.7/lib/python2.7/multiprocessing/process.py\", line 258, in _bootstrap\n",
      "    summed['l1'], summed['l2'], summed['l3'] =             zip(*summed.apply(lambda x: summed.columns[x.argsort()[::-1][:3]].tolist(), axis=1));\n",
      "  File \"/Library/Python/2.7/site-packages/pandas-0.17.1-py2.7-macosx-10.10-intel.egg/pandas/core/index.py\", line 1156, in __getitem__\n",
      "Process Process-263:\n",
      "    self.run()\n",
      "Traceback (most recent call last):\n",
      "  File \"/System/Library/Frameworks/Python.framework/Versions/2.7/lib/python2.7/multiprocessing/process.py\", line 114, in run\n",
      "  File \"/System/Library/Frameworks/Python.framework/Versions/2.7/lib/python2.7/multiprocessing/process.py\", line 258, in _bootstrap\n",
      "    self._target(*self._args, **self._kwargs)\n",
      "    if is_bool_indexer(key):\n",
      "  File \"<ipython-input-59-796a4db134d1>\", line 87, in process_column\n",
      "  File \"/Library/Python/2.7/site-packages/pandas-0.17.1-py2.7-macosx-10.10-intel.egg/pandas/core/common.py\", line 1743, in is_bool_indexer\n",
      "    self.run()\n",
      "    elif key.dtype == np.bool_:\n",
      "    summed['l1'], summed['l2'], summed['l3'] =             zip(*summed.apply(lambda x: summed.columns[x.argsort()[::-1][:3]].tolist(), axis=1));\n"
     ]
    }
   ],
   "source": [
    "predictions = model(x_ranges_cv, y_ranges_cv, x_cv_end, y_cv_end, train, test_cv.drop(['place_id'], axis=1));"
   ]
  },
  {
   "cell_type": "code",
   "execution_count": 55,
   "metadata": {
    "collapsed": false
   },
   "outputs": [
    {
     "data": {
      "text/plain": [
       "(7911778, 3)"
      ]
     },
     "execution_count": 55,
     "metadata": {},
     "output_type": "execute_result"
    }
   ],
   "source": [
    "predictions.shape"
   ]
  },
  {
   "cell_type": "code",
   "execution_count": 13,
   "metadata": {
    "collapsed": false
   },
   "outputs": [
    {
     "name": "stderr",
     "output_type": "stream",
     "text": [
      "/Library/Python/2.7/site-packages/ipykernel/__main__.py:3: FutureWarning: sort(....) is deprecated, use sort_index(.....)\n",
      "  app.launch_new_instance()\n"
     ]
    },
    {
     "name": "stdout",
     "output_type": "stream",
     "text": [
      "(7279505, 1)\n",
      "0.647978239363\n"
     ]
    }
   ],
   "source": [
    "# 1:1\n",
    "#predictions = model(x_ranges_cv, y_ranges_cv, x_cv_end, y_cv_end, train_cv, test_cv.drop(['place_id'], axis=1));\n",
    "actual = test_cv[['place_id']].sort();\n",
    "#predictions[['l1','l2','l3']]  = predictions[['l1','l2','l3']].astype('int64')\n",
    "print actual.shape\n",
    "print mapk(np.array([actual.values.flatten()]).T, predictions.values, 3)"
   ]
  },
  {
   "cell_type": "code",
   "execution_count": 15,
   "metadata": {
    "collapsed": false
   },
   "outputs": [
    {
     "name": "stdout",
     "output_type": "stream",
     "text": [
      "Elapsed time column: 30.4403275331 minutes\n",
      "Elapsed time column: 31.4096225699 minutes\n",
      "Elapsed time column: 33.6390999158 minutes\n",
      "Elapsed time column: 34.9108743509 minutes\n",
      "Elapsed time column: 36.042342933 minutes\n",
      "Elapsed time column: 36.2695594152 minutes\n",
      "Elapsed time column: 36.394053634 minutes\n",
      "Elapsed time column: 36.508232832 minutes\n",
      "Elapsed time column: 36.658953615 minutes\n",
      "Elapsed time column: 36.7901131829 minutes\n",
      "Elapsed time column: 36.8177387993 minutes\n",
      "Elapsed time column: 36.8746377349 minutes\n",
      "Elapsed time overall: 36.8773222804 minutes\n",
      "(7279505, 3)\n"
     ]
    },
    {
     "name": "stderr",
     "output_type": "stream",
     "text": [
      "/Library/Python/2.7/site-packages/ipykernel/__main__.py:3: FutureWarning: sort(....) is deprecated, use sort_index(.....)\n",
      "  app.launch_new_instance()\n"
     ]
    },
    {
     "name": "stdout",
     "output_type": "stream",
     "text": [
      "(7279505, 1)\n",
      "0.648229813245\n"
     ]
    }
   ],
   "source": [
    "# 2:1\n",
    "predictions = model(x_ranges_cv, y_ranges_cv, x_cv_end, y_cv_end, train_cv, test_cv.drop(['place_id'], axis=1));\n",
    "actual = test_cv[['place_id']].sort();\n",
    "predictions[['l1','l2','l3']]  = predictions[['l1','l2','l3']].astype('int64')\n",
    "print actual.shape\n",
    "print mapk(np.array([actual.values.flatten()]).T, predictions.values, 3)"
   ]
  },
  {
   "cell_type": "code",
   "execution_count": 18,
   "metadata": {
    "collapsed": false
   },
   "outputs": [
    {
     "name": "stdout",
     "output_type": "stream",
     "text": [
      "Elapsed time column: 38.4620311975 minutes\n",
      "Elapsed time column: 39.2670983831 minutes\n",
      "Elapsed time column: 41.8771187345 minutes\n",
      "Elapsed time column: 43.5470228831 minutes\n",
      "Elapsed time column: 44.4005404353 minutes\n",
      "Elapsed time column: 44.8322546999 minutes\n",
      "Elapsed time column: 45.0872049133 minutes\n",
      "Elapsed time column: 45.1210696022 minutes\n",
      "Elapsed time column: 45.1813807646 minutes\n",
      "Elapsed time column: 45.3620578011 minutes\n",
      "Elapsed time column: 45.4705918511 minutes\n",
      "Elapsed time column: 45.5853589495 minutes\n",
      "Elapsed time overall: 45.5880936027 minutes\n",
      "(7279505, 3)\n"
     ]
    },
    {
     "name": "stderr",
     "output_type": "stream",
     "text": [
      "/Library/Python/2.7/site-packages/ipykernel/__main__.py:3: FutureWarning: sort(....) is deprecated, use sort_index(.....)\n",
      "  app.launch_new_instance()\n"
     ]
    },
    {
     "name": "stdout",
     "output_type": "stream",
     "text": [
      "(7279505, 1)\n",
      "0.647146245979\n"
     ]
    }
   ],
   "source": [
    "# 4:1\n",
    "predictions = model(x_ranges_cv, y_ranges_cv, x_cv_end, y_cv_end, train_cv, test_cv.drop(['place_id'], axis=1));\n",
    "actual = test_cv[['place_id']].sort();\n",
    "predictions[['l1','l2','l3']]  = predictions[['l1','l2','l3']].astype('int64')\n",
    "print actual.shape\n",
    "print mapk(np.array([actual.values.flatten()]).T, predictions.values, 3)"
   ]
  },
  {
   "cell_type": "code",
   "execution_count": 22,
   "metadata": {
    "collapsed": false
   },
   "outputs": [
    {
     "name": "stdout",
     "output_type": "stream",
     "text": [
      "Elapsed time column: 14.2427910328 minutes\n",
      "Elapsed time column: 14.7059950868 minutes\n",
      "Elapsed time column: 15.473421669 minutes\n",
      "Elapsed time column: 15.8806776007 minutes\n",
      "Elapsed time column: 16.2274898489 minutes\n",
      "Elapsed time column: 16.4376385808 minutes\n",
      "Elapsed time column: 16.4534943859 minutes\n",
      "Elapsed time column: 16.4945543488 minutes\n",
      "Elapsed time column: 16.5008187691 minutes\n",
      "Elapsed time column: 16.5399011691 minutes\n",
      "Elapsed time column: 16.5737236818 minutes\n",
      "Elapsed time column: 16.6257001519 minutes\n",
      "Elapsed time overall: 16.6281627297 minutes\n",
      "(7279505, 3)\n"
     ]
    },
    {
     "name": "stderr",
     "output_type": "stream",
     "text": [
      "/Library/Python/2.7/site-packages/ipykernel/__main__.py:3: FutureWarning: sort(....) is deprecated, use sort_index(.....)\n",
      "  app.launch_new_instance()\n"
     ]
    },
    {
     "name": "stdout",
     "output_type": "stream",
     "text": [
      "(7279505, 1)\n",
      "0.647658139759\n"
     ]
    }
   ],
   "source": [
    "# 3:1\n",
    "predictions = model(x_ranges_cv, y_ranges_cv, x_cv_end, y_cv_end, train_cv, test_cv.drop(['place_id'], axis=1));\n",
    "actual = test_cv[['place_id']].sort();\n",
    "predictions[['l1','l2','l3']]  = predictions[['l1','l2','l3']].astype('int64')\n",
    "print actual.shape\n",
    "print mapk(np.array([actual.values.flatten()]).T, predictions.values, 3)"
   ]
  },
  {
   "cell_type": "code",
   "execution_count": 25,
   "metadata": {
    "collapsed": false
   },
   "outputs": [
    {
     "name": "stdout",
     "output_type": "stream",
     "text": [
      "Elapsed time column: 14.9665695985 minutes\n",
      "Elapsed time column: 15.3974535982 minutes\n",
      "Elapsed time column: 16.2040850163 minutes\n",
      "Elapsed time column: 16.6524471521 minutes\n",
      "Elapsed time column: 17.0386225184 minutes\n",
      "Elapsed time column: 17.2591627479 minutes\n",
      "Elapsed time column: 17.2834522645 minutes\n",
      "Elapsed time column: 17.2958891988 minutes\n",
      "Elapsed time column: 17.3387034973 minutes\n",
      "Elapsed time column: 17.3708709478 minutes\n",
      "Elapsed time column: 17.3977789998 minutes\n",
      "Elapsed time column: 17.4600841165 minutes\n",
      "Elapsed time overall: 17.4626104196 minutes\n",
      "(7279505, 3)\n"
     ]
    },
    {
     "name": "stderr",
     "output_type": "stream",
     "text": [
      "/Library/Python/2.7/site-packages/ipykernel/__main__.py:3: FutureWarning: sort(....) is deprecated, use sort_index(.....)\n",
      "  app.launch_new_instance()\n"
     ]
    },
    {
     "name": "stdout",
     "output_type": "stream",
     "text": [
      "(7279505, 1)\n",
      "0.648358141568\n"
     ]
    }
   ],
   "source": [
    "# 1.5:1\n",
    "predictions = model(x_ranges_cv, y_ranges_cv, x_cv_end, y_cv_end, train_cv, test_cv.drop(['place_id'], axis=1));\n",
    "actual = test_cv[['place_id']].sort();\n",
    "predictions[['l1','l2','l3']]  = predictions[['l1','l2','l3']].astype('int64')\n",
    "print actual.shape\n",
    "print mapk(np.array([actual.values.flatten()]).T, predictions.values, 3)"
   ]
  },
  {
   "cell_type": "code",
   "execution_count": 29,
   "metadata": {
    "collapsed": false
   },
   "outputs": [
    {
     "name": "stdout",
     "output_type": "stream",
     "text": [
      "Elapsed time column: 15.1652602315 minutes\n",
      "Elapsed time column: 15.4857278824 minutes\n",
      "Elapsed time column: 16.2854601304 minutes\n",
      "Elapsed time column: 16.7138969819 minutes\n",
      "Elapsed time column: 17.1094597022 minutes\n",
      "Elapsed time column: 17.3059388161 minutes\n",
      "Elapsed time column: 17.3574807167 minutes\n",
      "Elapsed time column: 17.3591024478 minutes\n",
      "Elapsed time column: 17.3978994846 minutes\n",
      "Elapsed time column: 17.4323835174 minutes\n",
      "Elapsed time column: 17.4713435809 minutes\n",
      "Elapsed time column: 17.5198141336 minutes\n",
      "Elapsed time overall: 17.5222983003 minutes\n",
      "(7279505, 3)\n"
     ]
    },
    {
     "name": "stderr",
     "output_type": "stream",
     "text": [
      "/Library/Python/2.7/site-packages/ipykernel/__main__.py:3: FutureWarning: sort(....) is deprecated, use sort_index(.....)\n",
      "  app.launch_new_instance()\n"
     ]
    },
    {
     "name": "stdout",
     "output_type": "stream",
     "text": [
      "(7279505, 1)\n",
      "0.648321531936\n"
     ]
    }
   ],
   "source": [
    "# 1.75:1\n",
    "predictions = model(x_ranges_cv, y_ranges_cv, x_cv_end, y_cv_end, train_cv, test_cv.drop(['place_id'], axis=1));\n",
    "actual = test_cv[['place_id']].sort();\n",
    "predictions[['l1','l2','l3']]  = predictions[['l1','l2','l3']].astype('int64')\n",
    "print actual.shape\n",
    "print mapk(np.array([actual.values.flatten()]).T, predictions.values, 3)"
   ]
  },
  {
   "cell_type": "code",
   "execution_count": 33,
   "metadata": {
    "collapsed": false
   },
   "outputs": [
    {
     "name": "stdout",
     "output_type": "stream",
     "text": [
      "Elapsed time column: 14.7934530338 minutes\n",
      "Elapsed time column: 15.2159933647 minutes\n",
      "Elapsed time column: 15.9233281493 minutes\n",
      "Elapsed time column: 16.3699216326 minutes\n",
      "Elapsed time column: 16.7171323816 minutes\n",
      "Elapsed time column: 16.9315239986 minutes\n",
      "Elapsed time column: 16.9447553992 minutes\n",
      "Elapsed time column: 16.984264799 minutes\n",
      "Elapsed time column: 16.9979028662 minutes\n",
      "Elapsed time column: 17.0344791174 minutes\n",
      "Elapsed time column: 17.0703659336 minutes\n",
      "Elapsed time column: 17.1149411996 minutes\n",
      "Elapsed time overall: 17.1172762831 minutes\n",
      "(7279505, 3)\n"
     ]
    },
    {
     "name": "stderr",
     "output_type": "stream",
     "text": [
      "/Library/Python/2.7/site-packages/ipykernel/__main__.py:3: FutureWarning: sort(....) is deprecated, use sort_index(.....)\n",
      "  app.launch_new_instance()\n"
     ]
    },
    {
     "name": "stdout",
     "output_type": "stream",
     "text": [
      "(7279505, 1)\n",
      "0.64827498573\n"
     ]
    }
   ],
   "source": [
    "# 1.25:1\n",
    "predictions = model(x_ranges_cv, y_ranges_cv, x_cv_end, y_cv_end, train_cv, test_cv.drop(['place_id'], axis=1));\n",
    "actual = test_cv[['place_id']].sort();\n",
    "predictions[['l1','l2','l3']]  = predictions[['l1','l2','l3']].astype('int64')\n",
    "print actual.shape\n",
    "print mapk(np.array([actual.values.flatten()]).T, predictions.values, 3)"
   ]
  },
  {
   "cell_type": "code",
   "execution_count": 35,
   "metadata": {
    "collapsed": false
   },
   "outputs": [
    {
     "name": "stdout",
     "output_type": "stream",
     "text": [
      "Elapsed time column: 14.3525497993 minutes\n",
      "Elapsed time column: 14.7467328191 minutes\n",
      "Elapsed time column: 15.4248833497 minutes\n",
      "Elapsed time column: 15.8553809166 minutes\n",
      "Elapsed time column: 16.2372039835 minutes\n",
      "Elapsed time column: 16.4154511333 minutes\n",
      "Elapsed time column: 16.4494563659 minutes\n",
      "Elapsed time column: 16.487549603 minutes\n",
      "Elapsed time column: 16.4933715343 minutes\n",
      "Elapsed time column: 16.5310536822 minutes\n",
      "Elapsed time column: 16.5758609494 minutes\n",
      "Elapsed time column: 16.6134159644 minutes\n",
      "Elapsed time overall: 16.6159875035 minutes\n",
      "(7279505, 3)\n"
     ]
    },
    {
     "name": "stderr",
     "output_type": "stream",
     "text": [
      "/Library/Python/2.7/site-packages/ipykernel/__main__.py:3: FutureWarning: sort(....) is deprecated, use sort_index(.....)\n",
      "  app.launch_new_instance()\n"
     ]
    },
    {
     "name": "stdout",
     "output_type": "stream",
     "text": [
      "(7279505, 1)\n",
      "0.648355623082\n"
     ]
    }
   ],
   "source": [
    "# 1.625:1\n",
    "predictions = model(x_ranges_cv, y_ranges_cv, x_cv_end, y_cv_end, train_cv, test_cv.drop(['place_id'], axis=1));\n",
    "actual = test_cv[['place_id']].sort();\n",
    "predictions[['l1','l2','l3']]  = predictions[['l1','l2','l3']].astype('int64')\n",
    "print actual.shape\n",
    "print mapk(np.array([actual.values.flatten()]).T, predictions.values, 3)"
   ]
  },
  {
   "cell_type": "code",
   "execution_count": 53,
   "metadata": {
    "collapsed": false,
    "scrolled": false
   },
   "outputs": [
    {
     "name": "stdout",
     "output_type": "stream",
     "text": [
      "(7279505, 1)\n",
      "0.64374626663\n"
     ]
    }
   ],
   "source": [
    "#predictions = model(x_ranges_cv, y_ranges_cv, x_cv_end, y_cv_end, train_cv, test_cv.drop(['place_id'], axis=1));\n",
    "#actual = test_cv[['place_id']].sort();\n",
    "predictions[['l1','l2','l3']]  = predictions[['l1','l2','l3']].astype('int64')\n",
    "print actual.shape\n",
    "print mapk(np.array([actual.values.flatten()]).T, predictions.values, 3)"
   ]
  },
  {
   "cell_type": "code",
   "execution_count": 59,
   "metadata": {
    "collapsed": false
   },
   "outputs": [
    {
     "name": "stdout",
     "output_type": "stream",
     "text": [
      "Elapsed time column: 4.18145811558 minutes\n",
      "Elapsed time column: 4.18293550014 minutes\n",
      "Elapsed time column: 4.28711673419 minutes\n",
      "Elapsed time column: 4.36312333345 minutes\n",
      "Elapsed time column: 4.36676673492 minutes\n",
      "Elapsed time column: 4.4031859676 minutes\n",
      "Elapsed time column: 4.41110750039 minutes\n",
      "Elapsed time column: 4.41602480014 minutes\n",
      "Elapsed time column: 4.41773593028 minutes\n",
      "Elapsed time column: 4.41846118371 minutes\n",
      "Elapsed time column: 4.36977894704 minutes\n",
      "Elapsed time column: 4.39419483344 minutes\n",
      "Elapsed time column: 4.39500201543 minutes\n",
      "Elapsed time column: 4.39964491924 minutes\n",
      "Elapsed time column: 4.40976421833 minutes\n",
      "Elapsed time column: 4.43874106407 minutes\n",
      "Elapsed time column: 4.44669770002 minutes\n",
      "Elapsed time column: 4.4484692653 minutes\n",
      "Elapsed time column: 4.47444631656 minutes\n",
      "Elapsed time column: 4.48419839938 minutes\n",
      "Elapsed time column: 4.47482994795 minutes\n",
      "Elapsed time column: 4.49865211646 minutes\n",
      "Elapsed time column: 4.52512131532 minutes\n",
      "Elapsed time column: 4.5350811998 minutes\n",
      "Elapsed time column: 4.5602380832 minutes\n",
      "Elapsed time column: 4.56596244971 minutes\n",
      "Elapsed time column: 4.58443496625 minutes\n",
      "Elapsed time column: 4.60523838202 minutes\n",
      "Elapsed time column: 4.63816274802 minutes\n",
      "Elapsed time column: 4.65145171483 minutes\n",
      "Elapsed time column: 4.49658395052 minutes\n",
      "Elapsed time column: 4.52410671711 minutes\n",
      "Elapsed time column: 4.52635485331 minutes\n",
      "Elapsed time column: 4.57420535088 minutes\n",
      "Elapsed time column: 4.57593163252 minutes\n",
      "Elapsed time column: 4.58640228113 minutes\n",
      "Elapsed time column: 4.61359355052 minutes\n",
      "Elapsed time column: 4.61689400276 minutes\n",
      "Elapsed time column: 4.62520661751 minutes\n",
      "Elapsed time column: 4.6380210797 minutes\n",
      "Elapsed time column: 4.15260730187 minutes\n",
      "Elapsed time column: 4.40236485004 minutes\n",
      "Elapsed time column: 4.40757731597 minutes\n",
      "Elapsed time column: 4.41617356936 minutes\n",
      "Elapsed time column: 4.4546355168 minutes\n",
      "Elapsed time column: 4.48355545203 minutes\n",
      "Elapsed time column: 4.48412603537 minutes\n",
      "Elapsed time column: 4.48627164761 minutes\n",
      "Elapsed time column: 4.49797389905 minutes\n",
      "Elapsed time column: 4.50358734926 minutes\n",
      "Elapsed time overall: 22.7066730857 minutes\n",
      "(7279505, 3)\n"
     ]
    },
    {
     "name": "stderr",
     "output_type": "stream",
     "text": [
      "/Library/Python/2.7/site-packages/ipykernel/__main__.py:2: FutureWarning: sort(....) is deprecated, use sort_index(.....)\n",
      "  from ipykernel import kernelapp as app\n"
     ]
    },
    {
     "name": "stdout",
     "output_type": "stream",
     "text": [
      "(7279505, 1)\n",
      "0.630077411399\n"
     ]
    }
   ],
   "source": [
    "predictions = model(x_ranges_cv, y_ranges_cv, x_cv_end, y_cv_end, train_cv, test_cv.drop(['place_id'], axis=1));\n",
    "actual = test_cv[['place_id']].sort();\n",
    "predictions[['l1','l2','l3']]  = predictions[['l1','l2','l3']].astype('int64')\n",
    "print actual.shape\n",
    "print mapk(np.array([actual.values.flatten()]).T, predictions.values, 3)"
   ]
  },
  {
   "cell_type": "code",
   "execution_count": 65,
   "metadata": {
    "collapsed": false
   },
   "outputs": [
    {
     "name": "stdout",
     "output_type": "stream",
     "text": [
      "Elapsed time column: 2.43738391399 minutes\n",
      "Elapsed time column: 2.47274431785 minutes\n",
      "Elapsed time column: 2.50941873391 minutes\n",
      "Elapsed time column: 2.56711030006 minutes\n",
      "Elapsed time column: 2.57242245277 minutes\n",
      "Elapsed time column: 2.59250754913 minutes\n",
      "Elapsed time column: 2.60327646732 minutes\n",
      "Elapsed time column: 2.6047546347 minutes\n",
      "Elapsed time column: 2.61355179946 minutes\n",
      "Elapsed time column: 2.61733216842 minutes\n",
      "Elapsed time column: 2.66868231694 minutes\n",
      "Elapsed time column: 2.68114528259 minutes\n",
      "Elapsed time column: 2.70505626599 minutes\n",
      "Elapsed time column: 2.71511448224 minutes\n",
      "Elapsed time column: 2.7185640653 minutes\n",
      "Elapsed time column: 2.75397520065 minutes\n",
      "Elapsed time column: 2.75972094933 minutes\n",
      "Elapsed time column: 2.76139810085 minutes\n",
      "Elapsed time column: 2.77201389869 minutes\n",
      "Elapsed time column: 2.80608005126 minutes\n",
      "Elapsed time column: 2.67047816515 minutes\n",
      "Elapsed time column: 2.74321651856 minutes\n",
      "Elapsed time column: 2.74925008217 minutes\n",
      "Elapsed time column: 2.80076749722 minutes\n",
      "Elapsed time column: 2.80147156715 minutes\n",
      "Elapsed time column: 2.81243406932 minutes\n",
      "Elapsed time column: 2.81701074839 minutes\n",
      "Elapsed time column: 2.81736578147 minutes\n",
      "Elapsed time column: 2.8444513003 minutes\n",
      "Elapsed time column: 2.86346811454 minutes\n",
      "Elapsed time column: 2.72274796963 minutes\n",
      "Elapsed time column: 2.83667910099 minutes\n",
      "Elapsed time column: 2.84138273398 minutes\n",
      "Elapsed time column: 2.88450348377 minutes\n",
      "Elapsed time column: 2.885577782 minutes\n",
      "Elapsed time column: 2.89191676776 minutes\n",
      "Elapsed time column: 2.89970280329 minutes\n",
      "Elapsed time column: 2.91977701982 minutes\n",
      "Elapsed time column: 2.92209940354 minutes\n",
      "Elapsed time column: 2.9389847676 minutes\n",
      "Elapsed time column: 2.65025720199 minutes\n",
      "Elapsed time column: 2.74781436523 minutes\n",
      "Elapsed time column: 2.78518988291 minutes\n",
      "Elapsed time column: 2.79469108184 minutes\n",
      "Elapsed time column: 2.80408685207 minutes\n",
      "Elapsed time column: 2.80653444926 minutes\n",
      "Elapsed time column: 2.82724099954 minutes\n",
      "Elapsed time column: 2.8395462354 minutes\n",
      "Elapsed time column: 2.8417321682 minutes\n",
      "Elapsed time column: 2.86141475042 minutes\n",
      "Elapsed time overall: 14.0937380513 minutes\n",
      "(7279505, 3)\n"
     ]
    },
    {
     "name": "stderr",
     "output_type": "stream",
     "text": [
      "/Library/Python/2.7/site-packages/ipykernel/__main__.py:2: FutureWarning: sort(....) is deprecated, use sort_index(.....)\n",
      "  from ipykernel import kernelapp as app\n"
     ]
    },
    {
     "name": "stdout",
     "output_type": "stream",
     "text": [
      "(7279505, 1)\n",
      "0.629864026927\n"
     ]
    }
   ],
   "source": [
    "predictions = model(x_ranges_cv, y_ranges_cv, x_cv_end, y_cv_end, train_cv, test_cv.drop(['place_id'], axis=1));\n",
    "actual = test_cv[['place_id']].sort();\n",
    "predictions[['l1','l2','l3']]  = predictions[['l1','l2','l3']].astype('int64')\n",
    "print actual.shape\n",
    "print mapk(np.array([actual.values.flatten()]).T, predictions.values, 3)"
   ]
  },
  {
   "cell_type": "code",
   "execution_count": 50,
   "metadata": {
    "collapsed": false
   },
   "outputs": [
    {
     "name": "stdout",
     "output_type": "stream",
     "text": [
      "l1    object\n",
      "l2    object\n",
      "l3    object\n",
      "dtype: object\n"
     ]
    }
   ],
   "source": [
    "print predictions.dtypes"
   ]
  },
  {
   "cell_type": "code",
   "execution_count": 51,
   "metadata": {
    "collapsed": false
   },
   "outputs": [
    {
     "data": {
      "text/plain": [
       "place_id    int64\n",
       "dtype: object"
      ]
     },
     "execution_count": 51,
     "metadata": {},
     "output_type": "execute_result"
    }
   ],
   "source": [
    "actual.dtypes"
   ]
  },
  {
   "cell_type": "code",
   "execution_count": 11,
   "metadata": {
    "collapsed": false,
    "scrolled": false
   },
   "outputs": [
    {
     "name": "stdout",
     "output_type": "stream",
     "text": [
      "Elapsed time column: 15.6289599657 minutes\n",
      "Elapsed time column: 17.8379606684 minutes\n",
      "Elapsed time column: 18.6429466009 minutes\n",
      "Elapsed time column: 19.3398334702 minutes\n",
      "Elapsed time column: 20.1132657687 minutes\n",
      "Elapsed time column: 21.3575217684 minutes\n",
      "Elapsed time column: 21.5296566327 minutes\n",
      "Elapsed time column: 21.5479592999 minutes\n",
      "Elapsed time column: 21.5744784673 minutes\n",
      "Elapsed time column: 22.1243719856 minutes\n",
      "Elapsed time column: 19.1988959511 minutes\n",
      "Elapsed time column: 19.4457983812 minutes\n",
      "Elapsed time column: 19.6714697838 minutes\n",
      "Elapsed time column: 20.130786399 minutes\n",
      "Elapsed time column: 20.3939861337 minutes\n",
      "Elapsed time column: 16.0720068494 minutes\n",
      "Elapsed time column: 17.3344372988 minutes\n",
      "Elapsed time column: 18.6908761342 minutes\n",
      "Elapsed time column: 18.7616165837 minutes\n",
      "Elapsed time column: 19.5174747507 minutes\n",
      "Elapsed time overall: 82.1650434494 minutes\n",
      "(8607230, 3)\n"
     ]
    }
   ],
   "source": [
    "preds_total = model(x_ranges, y_ranges, size, size, train, test)"
   ]
  },
  {
   "cell_type": "code",
   "execution_count": 12,
   "metadata": {
    "collapsed": false
   },
   "outputs": [
    {
     "name": "stdout",
     "output_type": "stream",
     "text": [
      "Writing submission file\n"
     ]
    }
   ],
   "source": [
    "preds_total1 = preds_total.applymap(str)\n",
    "preds_total1.columns = ['l1', 'l2', 'l3'];\n",
    "print('Writing submission file')\n",
    "preds_total1 = preds_total1.l1.str.cat([preds_total1.l2, preds_total1.l3], sep=' ')\n",
    "preds_total1.name = ['place_id'];\n",
    "preds_total1.to_csv('submission_stack_4x_2X_1X.csv', index=True, header=True, index_label='row_id')"
   ]
  },
  {
   "cell_type": "code",
   "execution_count": 22,
   "metadata": {
    "collapsed": false
   },
   "outputs": [],
   "source": [
    "preds_total1.to_csv('submission_stack_4x_2X_1X.csv', index=True, header=True, index_label='row_id')"
   ]
  },
  {
   "cell_type": "code",
   "execution_count": 21,
   "metadata": {
    "collapsed": false
   },
   "outputs": [
    {
     "data": {
      "text/html": [
       "<div>\n",
       "<table border=\"1\" class=\"dataframe\">\n",
       "  <thead>\n",
       "    <tr style=\"text-align: right;\">\n",
       "      <th></th>\n",
       "      <th>row_id</th>\n",
       "      <th>x</th>\n",
       "      <th>y</th>\n",
       "      <th>accuracy</th>\n",
       "      <th>time</th>\n",
       "      <th>place_id</th>\n",
       "      <th>hour</th>\n",
       "      <th>weekday</th>\n",
       "      <th>month</th>\n",
       "      <th>year</th>\n",
       "    </tr>\n",
       "  </thead>\n",
       "  <tbody>\n",
       "    <tr>\n",
       "      <th>0</th>\n",
       "      <td>0</td>\n",
       "      <td>0.7941</td>\n",
       "      <td>9.0809</td>\n",
       "      <td>17.323938</td>\n",
       "      <td>470702</td>\n",
       "      <td>8523065625</td>\n",
       "      <td>88.133333</td>\n",
       "      <td>15</td>\n",
       "      <td>22</td>\n",
       "      <td>10</td>\n",
       "    </tr>\n",
       "    <tr>\n",
       "      <th>1</th>\n",
       "      <td>1</td>\n",
       "      <td>5.9567</td>\n",
       "      <td>4.7968</td>\n",
       "      <td>11.139434</td>\n",
       "      <td>186555</td>\n",
       "      <td>1757726713</td>\n",
       "      <td>57.000000</td>\n",
       "      <td>12</td>\n",
       "      <td>10</td>\n",
       "      <td>10</td>\n",
       "    </tr>\n",
       "    <tr>\n",
       "      <th>2</th>\n",
       "      <td>2</td>\n",
       "      <td>8.3078</td>\n",
       "      <td>7.0407</td>\n",
       "      <td>18.692317</td>\n",
       "      <td>322648</td>\n",
       "      <td>1137537235</td>\n",
       "      <td>9.866667</td>\n",
       "      <td>3</td>\n",
       "      <td>16</td>\n",
       "      <td>10</td>\n",
       "    </tr>\n",
       "    <tr>\n",
       "      <th>3</th>\n",
       "      <td>3</td>\n",
       "      <td>7.3665</td>\n",
       "      <td>2.5165</td>\n",
       "      <td>18.129134</td>\n",
       "      <td>704587</td>\n",
       "      <td>6567393236</td>\n",
       "      <td>32.466667</td>\n",
       "      <td>21</td>\n",
       "      <td>10</td>\n",
       "      <td>20</td>\n",
       "    </tr>\n",
       "    <tr>\n",
       "      <th>4</th>\n",
       "      <td>4</td>\n",
       "      <td>4.0961</td>\n",
       "      <td>1.1307</td>\n",
       "      <td>14.913617</td>\n",
       "      <td>472130</td>\n",
       "      <td>7440663949</td>\n",
       "      <td>87.333333</td>\n",
       "      <td>18</td>\n",
       "      <td>22</td>\n",
       "      <td>10</td>\n",
       "    </tr>\n",
       "    <tr>\n",
       "      <th>5</th>\n",
       "      <td>5</td>\n",
       "      <td>3.8099</td>\n",
       "      <td>1.9586</td>\n",
       "      <td>18.750613</td>\n",
       "      <td>178065</td>\n",
       "      <td>6289802927</td>\n",
       "      <td>67.000000</td>\n",
       "      <td>15</td>\n",
       "      <td>10</td>\n",
       "      <td>10</td>\n",
       "    </tr>\n",
       "    <tr>\n",
       "      <th>6</th>\n",
       "      <td>6</td>\n",
       "      <td>6.3336</td>\n",
       "      <td>4.3720</td>\n",
       "      <td>11.139434</td>\n",
       "      <td>666829</td>\n",
       "      <td>9931249544</td>\n",
       "      <td>11.266667</td>\n",
       "      <td>6</td>\n",
       "      <td>8</td>\n",
       "      <td>20</td>\n",
       "    </tr>\n",
       "    <tr>\n",
       "      <th>7</th>\n",
       "      <td>7</td>\n",
       "      <td>5.7409</td>\n",
       "      <td>6.7697</td>\n",
       "      <td>19.294189</td>\n",
       "      <td>369002</td>\n",
       "      <td>5662813655</td>\n",
       "      <td>28.133333</td>\n",
       "      <td>15</td>\n",
       "      <td>18</td>\n",
       "      <td>10</td>\n",
       "    </tr>\n",
       "    <tr>\n",
       "      <th>8</th>\n",
       "      <td>8</td>\n",
       "      <td>4.3114</td>\n",
       "      <td>6.9410</td>\n",
       "      <td>4.771213</td>\n",
       "      <td>166384</td>\n",
       "      <td>8471780938</td>\n",
       "      <td>56.266667</td>\n",
       "      <td>12</td>\n",
       "      <td>8</td>\n",
       "      <td>10</td>\n",
       "    </tr>\n",
       "    <tr>\n",
       "      <th>9</th>\n",
       "      <td>9</td>\n",
       "      <td>6.3414</td>\n",
       "      <td>0.0758</td>\n",
       "      <td>18.129134</td>\n",
       "      <td>400060</td>\n",
       "      <td>1253803156</td>\n",
       "      <td>82.666667</td>\n",
       "      <td>15</td>\n",
       "      <td>20</td>\n",
       "      <td>10</td>\n",
       "    </tr>\n",
       "    <tr>\n",
       "      <th>10</th>\n",
       "      <td>10</td>\n",
       "      <td>2.0173</td>\n",
       "      <td>4.8627</td>\n",
       "      <td>7.781513</td>\n",
       "      <td>21353</td>\n",
       "      <td>8684462954</td>\n",
       "      <td>83.533333</td>\n",
       "      <td>3</td>\n",
       "      <td>2</td>\n",
       "      <td>10</td>\n",
       "    </tr>\n",
       "    <tr>\n",
       "      <th>11</th>\n",
       "      <td>11</td>\n",
       "      <td>8.7101</td>\n",
       "      <td>2.9442</td>\n",
       "      <td>18.633229</td>\n",
       "      <td>153493</td>\n",
       "      <td>2159916487</td>\n",
       "      <td>60.866667</td>\n",
       "      <td>6</td>\n",
       "      <td>8</td>\n",
       "      <td>10</td>\n",
       "    </tr>\n",
       "    <tr>\n",
       "      <th>12</th>\n",
       "      <td>12</td>\n",
       "      <td>0.8829</td>\n",
       "      <td>1.3445</td>\n",
       "      <td>18.061800</td>\n",
       "      <td>574488</td>\n",
       "      <td>7652380351</td>\n",
       "      <td>95.200000</td>\n",
       "      <td>21</td>\n",
       "      <td>4</td>\n",
       "      <td>20</td>\n",
       "    </tr>\n",
       "    <tr>\n",
       "      <th>13</th>\n",
       "      <td>13</td>\n",
       "      <td>2.4336</td>\n",
       "      <td>8.0600</td>\n",
       "      <td>17.923917</td>\n",
       "      <td>238054</td>\n",
       "      <td>8234363596</td>\n",
       "      <td>34.266667</td>\n",
       "      <td>15</td>\n",
       "      <td>12</td>\n",
       "      <td>10</td>\n",
       "    </tr>\n",
       "    <tr>\n",
       "      <th>14</th>\n",
       "      <td>14</td>\n",
       "      <td>6.1550</td>\n",
       "      <td>1.9774</td>\n",
       "      <td>9.030900</td>\n",
       "      <td>325411</td>\n",
       "      <td>2272949794</td>\n",
       "      <td>98.066667</td>\n",
       "      <td>6</td>\n",
       "      <td>16</td>\n",
       "      <td>10</td>\n",
       "    </tr>\n",
       "    <tr>\n",
       "      <th>15</th>\n",
       "      <td>15</td>\n",
       "      <td>7.6219</td>\n",
       "      <td>9.6208</td>\n",
       "      <td>18.129134</td>\n",
       "      <td>321519</td>\n",
       "      <td>4740742194</td>\n",
       "      <td>30.600000</td>\n",
       "      <td>21</td>\n",
       "      <td>16</td>\n",
       "      <td>10</td>\n",
       "    </tr>\n",
       "    <tr>\n",
       "      <th>16</th>\n",
       "      <td>16</td>\n",
       "      <td>3.2494</td>\n",
       "      <td>3.2096</td>\n",
       "      <td>18.750613</td>\n",
       "      <td>777982</td>\n",
       "      <td>2123587484</td>\n",
       "      <td>29.466667</td>\n",
       "      <td>6</td>\n",
       "      <td>14</td>\n",
       "      <td>20</td>\n",
       "    </tr>\n",
       "    <tr>\n",
       "      <th>17</th>\n",
       "      <td>17</td>\n",
       "      <td>0.7084</td>\n",
       "      <td>8.9051</td>\n",
       "      <td>18.388491</td>\n",
       "      <td>320633</td>\n",
       "      <td>8016758016</td>\n",
       "      <td>67.533333</td>\n",
       "      <td>18</td>\n",
       "      <td>16</td>\n",
       "      <td>10</td>\n",
       "    </tr>\n",
       "    <tr>\n",
       "      <th>18</th>\n",
       "      <td>18</td>\n",
       "      <td>2.7256</td>\n",
       "      <td>1.0135</td>\n",
       "      <td>17.323938</td>\n",
       "      <td>6249</td>\n",
       "      <td>8936085695</td>\n",
       "      <td>36.600000</td>\n",
       "      <td>15</td>\n",
       "      <td>2</td>\n",
       "      <td>10</td>\n",
       "    </tr>\n",
       "    <tr>\n",
       "      <th>19</th>\n",
       "      <td>19</td>\n",
       "      <td>4.2683</td>\n",
       "      <td>1.8238</td>\n",
       "      <td>18.450980</td>\n",
       "      <td>411437</td>\n",
       "      <td>2778700985</td>\n",
       "      <td>73.133333</td>\n",
       "      <td>18</td>\n",
       "      <td>20</td>\n",
       "      <td>10</td>\n",
       "    </tr>\n",
       "  </tbody>\n",
       "</table>\n",
       "</div>"
      ],
      "text/plain": [
       "    row_id       x       y   accuracy    time    place_id       hour  weekday  \\\n",
       "0        0  0.7941  9.0809  17.323938  470702  8523065625  88.133333       15   \n",
       "1        1  5.9567  4.7968  11.139434  186555  1757726713  57.000000       12   \n",
       "2        2  8.3078  7.0407  18.692317  322648  1137537235   9.866667        3   \n",
       "3        3  7.3665  2.5165  18.129134  704587  6567393236  32.466667       21   \n",
       "4        4  4.0961  1.1307  14.913617  472130  7440663949  87.333333       18   \n",
       "5        5  3.8099  1.9586  18.750613  178065  6289802927  67.000000       15   \n",
       "6        6  6.3336  4.3720  11.139434  666829  9931249544  11.266667        6   \n",
       "7        7  5.7409  6.7697  19.294189  369002  5662813655  28.133333       15   \n",
       "8        8  4.3114  6.9410   4.771213  166384  8471780938  56.266667       12   \n",
       "9        9  6.3414  0.0758  18.129134  400060  1253803156  82.666667       15   \n",
       "10      10  2.0173  4.8627   7.781513   21353  8684462954  83.533333        3   \n",
       "11      11  8.7101  2.9442  18.633229  153493  2159916487  60.866667        6   \n",
       "12      12  0.8829  1.3445  18.061800  574488  7652380351  95.200000       21   \n",
       "13      13  2.4336  8.0600  17.923917  238054  8234363596  34.266667       15   \n",
       "14      14  6.1550  1.9774   9.030900  325411  2272949794  98.066667        6   \n",
       "15      15  7.6219  9.6208  18.129134  321519  4740742194  30.600000       21   \n",
       "16      16  3.2494  3.2096  18.750613  777982  2123587484  29.466667        6   \n",
       "17      17  0.7084  8.9051  18.388491  320633  8016758016  67.533333       18   \n",
       "18      18  2.7256  1.0135  17.323938    6249  8936085695  36.600000       15   \n",
       "19      19  4.2683  1.8238  18.450980  411437  2778700985  73.133333       18   \n",
       "\n",
       "    month  year  \n",
       "0      22    10  \n",
       "1      10    10  \n",
       "2      16    10  \n",
       "3      10    20  \n",
       "4      22    10  \n",
       "5      10    10  \n",
       "6       8    20  \n",
       "7      18    10  \n",
       "8       8    10  \n",
       "9      20    10  \n",
       "10      2    10  \n",
       "11      8    10  \n",
       "12      4    20  \n",
       "13     12    10  \n",
       "14     16    10  \n",
       "15     16    10  \n",
       "16     14    20  \n",
       "17     16    10  \n",
       "18      2    10  \n",
       "19     20    10  "
      ]
     },
     "execution_count": 21,
     "metadata": {},
     "output_type": "execute_result"
    }
   ],
   "source": [
    "train[:20]"
   ]
  },
  {
   "cell_type": "code",
   "execution_count": 77,
   "metadata": {
    "collapsed": true
   },
   "outputs": [],
   "source": [
    "preds_total['place_id'] = preds_total['l1'].apply(str) + ' ' + preds_total['l2'].apply(str) + ' ' + preds_total['l3'].apply(str);"
   ]
  },
  {
   "cell_type": "code",
   "execution_count": 78,
   "metadata": {
    "collapsed": true
   },
   "outputs": [],
   "source": [
    "preds_total['place_id'].to_csv('summed_total_fix_submitable.csv', header=True);"
   ]
  },
  {
   "cell_type": "code",
   "execution_count": 4,
   "metadata": {
    "collapsed": true
   },
   "outputs": [],
   "source": [
    "preds_total = pd.read_csv('./summed_rf_knn_adddata.csv')"
   ]
  },
  {
   "cell_type": "code",
   "execution_count": 6,
   "metadata": {
    "collapsed": false
   },
   "outputs": [
    {
     "data": {
      "text/plain": [
       "(8607230, 2)"
      ]
     },
     "execution_count": 6,
     "metadata": {},
     "output_type": "execute_result"
    }
   ],
   "source": [
    "preds_total.shape"
   ]
  },
  {
   "cell_type": "code",
   "execution_count": 40,
   "metadata": {
    "collapsed": false
   },
   "outputs": [
    {
     "name": "stdout",
     "output_type": "stream",
     "text": [
      "          row_id                          place_id\n",
      "8607215  8607229  2341683842 5086776815 1221929656\n",
      "8607216      NaN  7276485501 1987770840 9940153795\n",
      "8607217      NaN  9429226559 8516734099 4185473526\n",
      "8607218      NaN  9796247868 6984803265 4864454069\n",
      "8607219      NaN  6252994738 8604489285 6339939984\n",
      "8607220      NaN  4314460660 3123784059 5349902730\n",
      "8607221      NaN  7809383965 4777992086 7738504775\n",
      "8607222      NaN  6425263733 3986169799 6602374893\n",
      "8607223      NaN  4895014859 3703851555 2110925726\n",
      "8607224      NaN  8444416732 8518754015 5003377269\n",
      "8607225      NaN  4017621362 1643674303 1612082183\n",
      "8607226      NaN  3340795021 2057449143 8971759038\n",
      "8607227      NaN  5204771649 8929683468 3676075937\n",
      "8607228      NaN  8827756453 5369509161 5155595138\n",
      "8607229      NaN  1915818458 4538240724 6412424861\n",
      "          row_id       x       y   accuracy     time       hour  weekday  \\\n",
      "15            15  0.2898  3.0031  17.558749   909801  81.400000        6   \n",
      "16            16  5.2386  1.8262  17.160033   867042  14.800000        3   \n",
      "17            17  2.9797  7.7333  22.304489   822650  31.333333       15   \n",
      "18            18  5.0956  0.1904  17.481880   841934  68.933333       12   \n",
      "19            19  2.7856  1.7072  17.853298   884954  56.933333       18   \n",
      "20            20  3.6321  2.2853  18.260748   905857  10.466667       21   \n",
      "21            21  9.9039  5.9419  18.808136   842668  21.866667       15   \n",
      "22            22  5.5745  3.4077  14.771213   863513  67.533333       15   \n",
      "23            23  2.4119  6.3321  18.450980   867179  23.933333        3   \n",
      "24            24  3.0635  4.2433  18.920946   855147  85.800000       18   \n",
      "25            25  4.8934  3.7615  23.747483   820307  67.133333        9   \n",
      "26            26  0.9999  9.9553  29.263424   809976  50.400000        9   \n",
      "27            27  9.4647  2.0808  28.048207   872145  67.000000       12   \n",
      "28            28  5.0168  6.4633  19.542425   861390  22.000000       12   \n",
      "29            29  0.1378  6.3284  13.979400   791750  83.333333       12   \n",
      "30            30  9.6577  6.0757  18.129134   842805  31.000000       15   \n",
      "31            31  5.6687  3.5418  17.481880   911496  98.400000        9   \n",
      "32            32  7.3823  7.8602  17.853298   840089  41.933333        9   \n",
      "33            33  8.9496  0.2318  15.185139   873839  83.933333       15   \n",
      "34            34  4.1345  5.9480  29.969492   989796  38.400000        6   \n",
      "35            35  8.9025  4.9839  18.260748   969345  19.000000        6   \n",
      "36            36  8.8641  8.2885  18.129134   871507  24.466667       12   \n",
      "37            37  6.9336  5.0818  25.301997   944627  99.133333       15   \n",
      "38            38  0.0998  5.2303  15.797836   930660  32.000000        9   \n",
      "39            39  1.4303  0.2069  13.617278   862332  84.800000       12   \n",
      "40            40  6.9631  5.9233  16.989700   981220  42.666667        9   \n",
      "41            41  0.2945  0.6054  17.558749   972213  18.200000       12   \n",
      "42            42  9.0974  8.4379  18.129134   974317  62.466667       15   \n",
      "43            43  5.5015  9.4484  22.041200   935027  35.133333       18   \n",
      "44            44  8.0036  5.5026  16.020600   980345  80.333333        6   \n",
      "...          ...     ...     ...        ...      ...        ...      ...   \n",
      "8607200  8607200  8.4712  9.9202  27.275413   898406  89.733333        3   \n",
      "8607201  8607201  3.9862  3.5731  18.920946   931702   5.466667       12   \n",
      "8607202  8607202  3.6345  8.6361  17.323938   798635  62.333333        6   \n",
      "8607203  8607203  3.9515  3.7811  20.128372   837065  32.333333        3   \n",
      "8607204  8607204  4.1147  0.5550  15.563025   858665  32.333333        6   \n",
      "8607205  8607205  3.7607  5.7430  14.313638   818213  23.533333        6   \n",
      "8607206  8607206  5.2770  0.2624  15.910646   963037  78.466667       12   \n",
      "8607207  8607207  4.2543  0.8777  18.808136   838057  98.466667        3   \n",
      "8607208  8607208  4.3629  3.5433  20.086002   795363  36.200000       21   \n",
      "8607209  8607209  5.2537  8.9852  18.450980   848406  20.400000        6   \n",
      "8607210  8607210  6.6662  3.7099   3.010300   801908  88.533333       12   \n",
      "8607211  8607211  3.5009  3.9504  29.854265   798074  24.933333        6   \n",
      "8607212  8607212  4.7167  4.7857  10.791812   967946  21.733333        3   \n",
      "8607213  8607213  9.3196  4.1151  18.512583  1003544  90.933333       12   \n",
      "8607214  8607214  6.4525  1.8398  17.923917   854084  14.933333       18   \n",
      "8607215  8607215  8.3778  5.5490  14.771213   889128  47.200000        6   \n",
      "8607216  8607216  9.8450  3.9206  19.637878   826785  19.000000        3   \n",
      "8607217  8607217  9.3638  5.9340  14.149733   809470  16.666667        9   \n",
      "8607218  8607218  0.0945  8.5868  18.129134   906535  55.666667       21   \n",
      "8607219  8607219  9.4804  3.9249  10.000000   900181  16.066667        9   \n",
      "8607220  8607220  7.1715  1.8787  16.901961   973675  19.666667       15   \n",
      "8607221  8607221  2.0729  7.4822  12.304489   789812  50.133333        9   \n",
      "8607222  8607222  0.5067  1.8705  15.563025   931820  13.333333       12   \n",
      "8607223  8607223  9.8678  6.1212  21.673173   913980  72.000000       15   \n",
      "8607224  8607224  4.0991  0.7243  13.010300   910040  97.333333        6   \n",
      "8607225  8607225  4.1206  5.2443  17.634280   882527  87.133333       12   \n",
      "8607226  8607226  5.1170  5.7695  17.781513   984517  70.466667       15   \n",
      "8607227  8607227  6.6409  8.3626  12.787536   814024  32.266667       18   \n",
      "8607228  8607228  6.4190  2.9985  18.325089   862916  27.733333       15   \n",
      "8607229  8607229  8.1017  7.8736   0.000000   845096  87.733333       18   \n",
      "\n",
      "         month  year  \n",
      "15          20    20  \n",
      "16          18    20  \n",
      "17          16    20  \n",
      "18          16    20  \n",
      "19          18    20  \n",
      "20          18    20  \n",
      "21          16    20  \n",
      "22          16    20  \n",
      "23          18    20  \n",
      "24          16    20  \n",
      "25          14    20  \n",
      "26          14    20  \n",
      "27          18    20  \n",
      "28          16    20  \n",
      "29          14    20  \n",
      "30          16    20  \n",
      "31          20    20  \n",
      "32          16    20  \n",
      "33          18    20  \n",
      "34          22    20  \n",
      "35          22    20  \n",
      "36          18    20  \n",
      "37          20    20  \n",
      "38          20    20  \n",
      "39          16    20  \n",
      "40          22    20  \n",
      "41          22    20  \n",
      "42          22    20  \n",
      "43          20    20  \n",
      "44          22    20  \n",
      "...        ...   ...  \n",
      "8607200     18    20  \n",
      "8607201     20    20  \n",
      "8607202     14    20  \n",
      "8607203     16    20  \n",
      "8607204     16    20  \n",
      "8607205     14    20  \n",
      "8607206     22    20  \n",
      "8607207     16    20  \n",
      "8607208     14    20  \n",
      "8607209     16    20  \n",
      "8607210     14    20  \n",
      "8607211     14    20  \n",
      "8607212     22    20  \n",
      "8607213     24    20  \n",
      "8607214     16    20  \n",
      "8607215     18    20  \n",
      "8607216     16    20  \n",
      "8607217     14    20  \n",
      "8607218     18    20  \n",
      "8607219     18    20  \n",
      "8607220     22    20  \n",
      "8607221     14    20  \n",
      "8607222     20    20  \n",
      "8607223     20    20  \n",
      "8607224     20    20  \n",
      "8607225     18    20  \n",
      "8607226     22    20  \n",
      "8607227     14    20  \n",
      "8607228     16    20  \n",
      "8607229     16    20  \n",
      "\n",
      "[8607215 rows x 9 columns]\n"
     ]
    }
   ],
   "source": [
    "print preds_total[-15:]\n",
    "print test[15:]"
   ]
  },
  {
   "cell_type": "code",
   "execution_count": 39,
   "metadata": {
    "collapsed": false
   },
   "outputs": [
    {
     "name": "stdout",
     "output_type": "stream",
     "text": [
      "set([nan, nan, nan, nan, nan, nan, nan, nan, nan, nan, nan, nan, 8607229.0, nan, nan])\n",
      "8607230\n"
     ]
    }
   ],
   "source": [
    "print set(preds_total.row_id.values)\n",
    "print len(set(test.row_id.values))"
   ]
  },
  {
   "cell_type": "code",
   "execution_count": 15,
   "metadata": {
    "collapsed": false
   },
   "outputs": [
    {
     "ename": "TypeError",
     "evalue": "'set' object has no attribute '__getitem__'",
     "output_type": "error",
     "traceback": [
      "\u001b[0;31m---------------------------------------------------------------------------\u001b[0m",
      "\u001b[0;31mTypeError\u001b[0m                                 Traceback (most recent call last)",
      "\u001b[0;32m<ipython-input-15-bd09e27bc8b5>\u001b[0m in \u001b[0;36m<module>\u001b[0;34m()\u001b[0m\n\u001b[0;32m----> 1\u001b[0;31m \u001b[0mset\u001b[0m\u001b[0;34m(\u001b[0m\u001b[0mpreds_total\u001b[0m\u001b[0;34m.\u001b[0m\u001b[0mrow_id\u001b[0m\u001b[0;34m.\u001b[0m\u001b[0mvalues\u001b[0m\u001b[0;34m)\u001b[0m\u001b[0;34m[\u001b[0m\u001b[0;34m-\u001b[0m\u001b[0;36m15\u001b[0m\u001b[0;34m:\u001b[0m\u001b[0;34m]\u001b[0m\u001b[0;34m\u001b[0m\u001b[0m\n\u001b[0m",
      "\u001b[0;31mTypeError\u001b[0m: 'set' object has no attribute '__getitem__'"
     ]
    }
   ],
   "source": [
    "set(preds_total.row_id.values)"
   ]
  },
  {
   "cell_type": "code",
   "execution_count": 58,
   "metadata": {
    "collapsed": false
   },
   "outputs": [],
   "source": [
    "preds_total1  =  preds_total[preds_total['row_id'] == preds_total['row_id']]"
   ]
  },
  {
   "cell_type": "code",
   "execution_count": 59,
   "metadata": {
    "collapsed": false
   },
   "outputs": [],
   "source": [
    "preds_total1['row_id']  = preds_total1['row_id'].astype(int)"
   ]
  },
  {
   "cell_type": "code",
   "execution_count": 63,
   "metadata": {
    "collapsed": false
   },
   "outputs": [],
   "source": [
    "set1 = set(preds_total1.row_id.values)\n",
    "set2 = set(test.row_id.values)"
   ]
  },
  {
   "cell_type": "code",
   "execution_count": 71,
   "metadata": {
    "collapsed": false
   },
   "outputs": [],
   "source": [
    "preds_missing  =  preds_total[preds_total['row_id'] != preds_total['row_id']]\n",
    "missing = list(set2 - set1)"
   ]
  },
  {
   "cell_type": "code",
   "execution_count": 66,
   "metadata": {
    "collapsed": false
   },
   "outputs": [],
   "source": [
    "preds_total1 = preds_total1.set_index('row_id')\n",
    "preds_total1.index.name = 'row_id';"
   ]
  },
  {
   "cell_type": "code",
   "execution_count": 68,
   "metadata": {
    "collapsed": false
   },
   "outputs": [
    {
     "data": {
      "text/html": [
       "<div>\n",
       "<table border=\"1\" class=\"dataframe\">\n",
       "  <thead>\n",
       "    <tr style=\"text-align: right;\">\n",
       "      <th></th>\n",
       "      <th>place_id</th>\n",
       "    </tr>\n",
       "    <tr>\n",
       "      <th>row_id</th>\n",
       "      <th></th>\n",
       "    </tr>\n",
       "  </thead>\n",
       "  <tbody>\n",
       "    <tr>\n",
       "      <th>8607216</th>\n",
       "      <td>4314460660 6248581507 3513132876</td>\n",
       "    </tr>\n",
       "    <tr>\n",
       "      <th>8607217</th>\n",
       "      <td>5842923271 5052683076 7295234444</td>\n",
       "    </tr>\n",
       "    <tr>\n",
       "      <th>8607218</th>\n",
       "      <td>5435941405 7815053482 6653133495</td>\n",
       "    </tr>\n",
       "    <tr>\n",
       "      <th>8607219</th>\n",
       "      <td>8364800794 4920677861 4132439450</td>\n",
       "    </tr>\n",
       "    <tr>\n",
       "      <th>8607220</th>\n",
       "      <td>9924871949 3278278289 4295380287</td>\n",
       "    </tr>\n",
       "    <tr>\n",
       "      <th>8607221</th>\n",
       "      <td>8933542378 8792295459 5378587809</td>\n",
       "    </tr>\n",
       "    <tr>\n",
       "      <th>8607222</th>\n",
       "      <td>4683526794 2813163259 7429659042</td>\n",
       "    </tr>\n",
       "    <tr>\n",
       "      <th>8607223</th>\n",
       "      <td>2614601100 9361412597 4642612962</td>\n",
       "    </tr>\n",
       "    <tr>\n",
       "      <th>8607224</th>\n",
       "      <td>7519528207 7053690910 7336608920</td>\n",
       "    </tr>\n",
       "    <tr>\n",
       "      <th>8607225</th>\n",
       "      <td>6388207576 1450752225 8305731085</td>\n",
       "    </tr>\n",
       "    <tr>\n",
       "      <th>8607226</th>\n",
       "      <td>9482625693 8203932359 8105128664</td>\n",
       "    </tr>\n",
       "    <tr>\n",
       "      <th>8607227</th>\n",
       "      <td>9466512367 8431688574 6422555124</td>\n",
       "    </tr>\n",
       "    <tr>\n",
       "      <th>8607228</th>\n",
       "      <td>6645978051 8822589364 6144260946</td>\n",
       "    </tr>\n",
       "    <tr>\n",
       "      <th>8607229</th>\n",
       "      <td>2341683842 5086776815 1221929656</td>\n",
       "    </tr>\n",
       "  </tbody>\n",
       "</table>\n",
       "</div>"
      ],
      "text/plain": [
       "                                 place_id\n",
       "row_id                                   \n",
       "8607216  4314460660 6248581507 3513132876\n",
       "8607217  5842923271 5052683076 7295234444\n",
       "8607218  5435941405 7815053482 6653133495\n",
       "8607219  8364800794 4920677861 4132439450\n",
       "8607220  9924871949 3278278289 4295380287\n",
       "8607221  8933542378 8792295459 5378587809\n",
       "8607222  4683526794 2813163259 7429659042\n",
       "8607223  2614601100 9361412597 4642612962\n",
       "8607224  7519528207 7053690910 7336608920\n",
       "8607225  6388207576 1450752225 8305731085\n",
       "8607226  9482625693 8203932359 8105128664\n",
       "8607227  9466512367 8431688574 6422555124\n",
       "8607228  6645978051 8822589364 6144260946\n",
       "8607229  2341683842 5086776815 1221929656"
      ]
     },
     "execution_count": 68,
     "metadata": {},
     "output_type": "execute_result"
    }
   ],
   "source": [
    "preds_total1[-14:]"
   ]
  },
  {
   "cell_type": "code",
   "execution_count": 70,
   "metadata": {
    "collapsed": false
   },
   "outputs": [
    {
     "name": "stdout",
     "output_type": "stream",
     "text": [
      "          row_id   x       y   accuracy    time       hour  weekday  month  \\\n",
      "187603    187603  10  0.9917  18.450980  887615  42.333333        3     18   \n",
      "3105384  3105384  10  8.0616  17.708520  975746  61.733333       18     22   \n",
      "3184243  3184243  10  3.8558  22.405492  799577  29.133333        9     14   \n",
      "3722078  3722078  10  9.9011  23.117539  978106  27.066667        3     22   \n",
      "3777156  3777156  10  7.2781  18.129134  927602  20.133333        3     20   \n",
      "4669744  4669744  10  3.5732  13.010300  907455  21.000000        3     20   \n",
      "5293602  5293602  10  5.2668  22.095150  944056  61.066667       15     20   \n",
      "5384155  5384155  10  1.9184  18.260748  806636  19.733333        3     14   \n",
      "6738507  6738507  10  4.1714  17.403627  894461  18.733333       18     18   \n",
      "6949762  6949762  10  7.3085  17.781513  937723  22.866667        3     20   \n",
      "6951548  6951548  10  6.4704  18.692317  952481  46.733333       12     22   \n",
      "7548906  7548906  10  7.5501  17.853298  873328  49.866667       15     18   \n",
      "8082232  8082232  10  8.2197  18.750613  896246  41.733333       21     18   \n",
      "8094397  8094397  10  2.6978   4.771213  962237  25.133333       12     22   \n",
      "\n",
      "         year  \n",
      "187603     20  \n",
      "3105384    20  \n",
      "3184243    20  \n",
      "3722078    20  \n",
      "3777156    20  \n",
      "4669744    20  \n",
      "5293602    20  \n",
      "5384155    20  \n",
      "6738507    20  \n",
      "6949762    20  \n",
      "6951548    20  \n",
      "7548906    20  \n",
      "8082232    20  \n",
      "8094397    20  \n"
     ]
    }
   ],
   "source": [
    "print test[test['row_id'].isin(missing)]"
   ]
  },
  {
   "cell_type": "code",
   "execution_count": 73,
   "metadata": {
    "collapsed": false
   },
   "outputs": [],
   "source": [
    "preds_missing[\"row_id\"] = missing"
   ]
  },
  {
   "cell_type": "code",
   "execution_count": 75,
   "metadata": {
    "collapsed": false
   },
   "outputs": [],
   "source": [
    "preds_missing  = preds_missing.set_index('row_id')\n",
    "preds_missing.index.name = 'row_id';"
   ]
  },
  {
   "cell_type": "code",
   "execution_count": 76,
   "metadata": {
    "collapsed": false
   },
   "outputs": [
    {
     "data": {
      "text/html": [
       "<div>\n",
       "<table border=\"1\" class=\"dataframe\">\n",
       "  <thead>\n",
       "    <tr style=\"text-align: right;\">\n",
       "      <th></th>\n",
       "      <th>place_id</th>\n",
       "    </tr>\n",
       "    <tr>\n",
       "      <th>row_id</th>\n",
       "      <th></th>\n",
       "    </tr>\n",
       "  </thead>\n",
       "  <tbody>\n",
       "    <tr>\n",
       "      <th>5293602</th>\n",
       "      <td>7276485501 1987770840 9940153795</td>\n",
       "    </tr>\n",
       "    <tr>\n",
       "      <th>3777156</th>\n",
       "      <td>9429226559 8516734099 4185473526</td>\n",
       "    </tr>\n",
       "    <tr>\n",
       "      <th>3184243</th>\n",
       "      <td>9796247868 6984803265 4864454069</td>\n",
       "    </tr>\n",
       "    <tr>\n",
       "      <th>3105384</th>\n",
       "      <td>6252994738 8604489285 6339939984</td>\n",
       "    </tr>\n",
       "    <tr>\n",
       "      <th>7548906</th>\n",
       "      <td>4314460660 3123784059 5349902730</td>\n",
       "    </tr>\n",
       "    <tr>\n",
       "      <th>6738507</th>\n",
       "      <td>7809383965 4777992086 7738504775</td>\n",
       "    </tr>\n",
       "    <tr>\n",
       "      <th>6949762</th>\n",
       "      <td>6425263733 3986169799 6602374893</td>\n",
       "    </tr>\n",
       "    <tr>\n",
       "      <th>4669744</th>\n",
       "      <td>4895014859 3703851555 2110925726</td>\n",
       "    </tr>\n",
       "    <tr>\n",
       "      <th>187603</th>\n",
       "      <td>8444416732 8518754015 5003377269</td>\n",
       "    </tr>\n",
       "    <tr>\n",
       "      <th>8082232</th>\n",
       "      <td>4017621362 1643674303 1612082183</td>\n",
       "    </tr>\n",
       "    <tr>\n",
       "      <th>5384155</th>\n",
       "      <td>3340795021 2057449143 8971759038</td>\n",
       "    </tr>\n",
       "    <tr>\n",
       "      <th>6951548</th>\n",
       "      <td>5204771649 8929683468 3676075937</td>\n",
       "    </tr>\n",
       "    <tr>\n",
       "      <th>8094397</th>\n",
       "      <td>8827756453 5369509161 5155595138</td>\n",
       "    </tr>\n",
       "    <tr>\n",
       "      <th>3722078</th>\n",
       "      <td>1915818458 4538240724 6412424861</td>\n",
       "    </tr>\n",
       "  </tbody>\n",
       "</table>\n",
       "</div>"
      ],
      "text/plain": [
       "                                 place_id\n",
       "row_id                                   \n",
       "5293602  7276485501 1987770840 9940153795\n",
       "3777156  9429226559 8516734099 4185473526\n",
       "3184243  9796247868 6984803265 4864454069\n",
       "3105384  6252994738 8604489285 6339939984\n",
       "7548906  4314460660 3123784059 5349902730\n",
       "6738507  7809383965 4777992086 7738504775\n",
       "6949762  6425263733 3986169799 6602374893\n",
       "4669744  4895014859 3703851555 2110925726\n",
       "187603   8444416732 8518754015 5003377269\n",
       "8082232  4017621362 1643674303 1612082183\n",
       "5384155  3340795021 2057449143 8971759038\n",
       "6951548  5204771649 8929683468 3676075937\n",
       "8094397  8827756453 5369509161 5155595138\n",
       "3722078  1915818458 4538240724 6412424861"
      ]
     },
     "execution_count": 76,
     "metadata": {},
     "output_type": "execute_result"
    }
   ],
   "source": [
    "preds_missing"
   ]
  },
  {
   "cell_type": "code",
   "execution_count": 77,
   "metadata": {
    "collapsed": true
   },
   "outputs": [],
   "source": [
    "preds_total1 = pd.concat([preds_total1, preds_missing], axis=0);"
   ]
  },
  {
   "cell_type": "code",
   "execution_count": 78,
   "metadata": {
    "collapsed": true
   },
   "outputs": [],
   "source": [
    "preds_total1 = preds_total1.sort_index()"
   ]
  },
  {
   "cell_type": "code",
   "execution_count": 79,
   "metadata": {
    "collapsed": true
   },
   "outputs": [],
   "source": [
    "preds_total1['place_id'].to_csv('summed_rf_knn_adddata_missing.csv', header=True);"
   ]
  },
  {
   "cell_type": "code",
   "execution_count": null,
   "metadata": {
    "collapsed": true
   },
   "outputs": [],
   "source": []
  }
 ],
 "metadata": {
  "kernelspec": {
   "display_name": "Python 2",
   "language": "python",
   "name": "python2"
  },
  "language_info": {
   "codemirror_mode": {
    "name": "ipython",
    "version": 2
   },
   "file_extension": ".py",
   "mimetype": "text/x-python",
   "name": "python",
   "nbconvert_exporter": "python",
   "pygments_lexer": "ipython2",
   "version": "2.7.10"
  }
 },
 "nbformat": 4,
 "nbformat_minor": 0
}
