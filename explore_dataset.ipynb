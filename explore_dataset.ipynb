{
 "cells": [
  {
   "cell_type": "code",
   "execution_count": 1,
   "metadata": {
    "collapsed": false
   },
   "outputs": [],
   "source": [
    "%matplotlib inline \n",
    "import pandas as pd\n",
    "import numpy as np\n",
    "\n",
    "train = pd.read_csv('./train.csv')\n",
    "test = pd.read_csv('./test.csv')"
   ]
  },
  {
   "cell_type": "code",
   "execution_count": 8,
   "metadata": {
    "collapsed": false
   },
   "outputs": [
    {
     "data": {
      "text/html": [
       "<div>\n",
       "<table border=\"1\" class=\"dataframe\">\n",
       "  <thead>\n",
       "    <tr style=\"text-align: right;\">\n",
       "      <th></th>\n",
       "      <th>row_id</th>\n",
       "      <th>x</th>\n",
       "      <th>y</th>\n",
       "      <th>accuracy</th>\n",
       "      <th>time</th>\n",
       "      <th>place_id</th>\n",
       "    </tr>\n",
       "  </thead>\n",
       "  <tbody>\n",
       "    <tr>\n",
       "      <th>0</th>\n",
       "      <td>0</td>\n",
       "      <td>0.7941</td>\n",
       "      <td>9.0809</td>\n",
       "      <td>54</td>\n",
       "      <td>470702</td>\n",
       "      <td>8523065625</td>\n",
       "    </tr>\n",
       "    <tr>\n",
       "      <th>1</th>\n",
       "      <td>1</td>\n",
       "      <td>5.9567</td>\n",
       "      <td>4.7968</td>\n",
       "      <td>13</td>\n",
       "      <td>186555</td>\n",
       "      <td>1757726713</td>\n",
       "    </tr>\n",
       "    <tr>\n",
       "      <th>2</th>\n",
       "      <td>2</td>\n",
       "      <td>8.3078</td>\n",
       "      <td>7.0407</td>\n",
       "      <td>74</td>\n",
       "      <td>322648</td>\n",
       "      <td>1137537235</td>\n",
       "    </tr>\n",
       "  </tbody>\n",
       "</table>\n",
       "</div>"
      ],
      "text/plain": [
       "   row_id       x       y  accuracy    time    place_id\n",
       "0       0  0.7941  9.0809        54  470702  8523065625\n",
       "1       1  5.9567  4.7968        13  186555  1757726713\n",
       "2       2  8.3078  7.0407        74  322648  1137537235"
      ]
     },
     "execution_count": 8,
     "metadata": {},
     "output_type": "execute_result"
    }
   ],
   "source": [
    "train[:3]"
   ]
  },
  {
   "cell_type": "code",
   "execution_count": 9,
   "metadata": {
    "collapsed": false
   },
   "outputs": [
    {
     "data": {
      "text/html": [
       "<div>\n",
       "<table border=\"1\" class=\"dataframe\">\n",
       "  <thead>\n",
       "    <tr style=\"text-align: right;\">\n",
       "      <th></th>\n",
       "      <th>row_id</th>\n",
       "      <th>x</th>\n",
       "      <th>y</th>\n",
       "      <th>accuracy</th>\n",
       "      <th>time</th>\n",
       "    </tr>\n",
       "  </thead>\n",
       "  <tbody>\n",
       "    <tr>\n",
       "      <th>0</th>\n",
       "      <td>0</td>\n",
       "      <td>0.1675</td>\n",
       "      <td>1.3608</td>\n",
       "      <td>107</td>\n",
       "      <td>930883</td>\n",
       "    </tr>\n",
       "    <tr>\n",
       "      <th>1</th>\n",
       "      <td>1</td>\n",
       "      <td>7.3909</td>\n",
       "      <td>2.5301</td>\n",
       "      <td>35</td>\n",
       "      <td>893017</td>\n",
       "    </tr>\n",
       "    <tr>\n",
       "      <th>2</th>\n",
       "      <td>2</td>\n",
       "      <td>8.0978</td>\n",
       "      <td>2.3473</td>\n",
       "      <td>62</td>\n",
       "      <td>976933</td>\n",
       "    </tr>\n",
       "  </tbody>\n",
       "</table>\n",
       "</div>"
      ],
      "text/plain": [
       "   row_id       x       y  accuracy    time\n",
       "0       0  0.1675  1.3608       107  930883\n",
       "1       1  7.3909  2.5301        35  893017\n",
       "2       2  8.0978  2.3473        62  976933"
      ]
     },
     "execution_count": 9,
     "metadata": {},
     "output_type": "execute_result"
    }
   ],
   "source": [
    "test[:3]"
   ]
  },
  {
   "cell_type": "code",
   "execution_count": 170,
   "metadata": {
    "collapsed": false
   },
   "outputs": [
    {
     "name": "stdout",
     "output_type": "stream",
     "text": [
      "108390\n"
     ]
    }
   ],
   "source": [
    "print train.place_id.nunique();"
   ]
  },
  {
   "cell_type": "code",
   "execution_count": 77,
   "metadata": {
    "collapsed": false
   },
   "outputs": [
    {
     "name": "stdout",
     "output_type": "stream",
     "text": [
      "1026\n",
      "1\n",
      "1033\n",
      "1\n"
     ]
    }
   ],
   "source": [
    "print test.accuracy.max()\n",
    "print test.accuracy.min()\n",
    "\n",
    "print train.accuracy.max()\n",
    "print train.accuracy.min()"
   ]
  },
  {
   "cell_type": "code",
   "execution_count": 80,
   "metadata": {
    "collapsed": false
   },
   "outputs": [
    {
     "name": "stdout",
     "output_type": "stream",
     "text": [
      "test x\n",
      "10.0\n",
      "0.0\n",
      "test y\n",
      "10.0\n",
      "0.0\n",
      "train x\n",
      "10.0\n",
      "0.0\n",
      "train y\n",
      "10.0\n",
      "0.0\n"
     ]
    }
   ],
   "source": [
    "print 'test x'\n",
    "print test.x.max()\n",
    "print test.x.min()\n",
    "print 'test y'\n",
    "print test.y.max()\n",
    "print test.y.min()\n",
    "print 'train x'\n",
    "print train.x.max()\n",
    "print train.x.min()\n",
    "print 'train y'\n",
    "print train.y.max()\n",
    "print train.y.min()"
   ]
  },
  {
   "cell_type": "code",
   "execution_count": 25,
   "metadata": {
    "collapsed": false
   },
   "outputs": [
    {
     "data": {
      "text/html": [
       "<div>\n",
       "<table border=\"1\" class=\"dataframe\">\n",
       "  <thead>\n",
       "    <tr style=\"text-align: right;\">\n",
       "      <th></th>\n",
       "      <th>row_id</th>\n",
       "      <th>x</th>\n",
       "      <th>y</th>\n",
       "      <th>accuracy</th>\n",
       "      <th>time</th>\n",
       "      <th>place_id</th>\n",
       "    </tr>\n",
       "  </thead>\n",
       "  <tbody>\n",
       "    <tr>\n",
       "      <th>row_id</th>\n",
       "      <td>1.000000</td>\n",
       "      <td>0.000051</td>\n",
       "      <td>-0.000085</td>\n",
       "      <td>0.000259</td>\n",
       "      <td>0.000080</td>\n",
       "      <td>-0.000424</td>\n",
       "    </tr>\n",
       "    <tr>\n",
       "      <th>x</th>\n",
       "      <td>0.000051</td>\n",
       "      <td>1.000000</td>\n",
       "      <td>-0.000338</td>\n",
       "      <td>0.000301</td>\n",
       "      <td>-0.000615</td>\n",
       "      <td>-0.002218</td>\n",
       "    </tr>\n",
       "    <tr>\n",
       "      <th>y</th>\n",
       "      <td>-0.000085</td>\n",
       "      <td>-0.000338</td>\n",
       "      <td>1.000000</td>\n",
       "      <td>0.000619</td>\n",
       "      <td>0.000638</td>\n",
       "      <td>-0.005038</td>\n",
       "    </tr>\n",
       "    <tr>\n",
       "      <th>accuracy</th>\n",
       "      <td>0.000259</td>\n",
       "      <td>0.000301</td>\n",
       "      <td>0.000619</td>\n",
       "      <td>1.000000</td>\n",
       "      <td>0.071927</td>\n",
       "      <td>0.000005</td>\n",
       "    </tr>\n",
       "    <tr>\n",
       "      <th>time</th>\n",
       "      <td>0.000080</td>\n",
       "      <td>-0.000615</td>\n",
       "      <td>0.000638</td>\n",
       "      <td>0.071927</td>\n",
       "      <td>1.000000</td>\n",
       "      <td>-0.002874</td>\n",
       "    </tr>\n",
       "    <tr>\n",
       "      <th>place_id</th>\n",
       "      <td>-0.000424</td>\n",
       "      <td>-0.002218</td>\n",
       "      <td>-0.005038</td>\n",
       "      <td>0.000005</td>\n",
       "      <td>-0.002874</td>\n",
       "      <td>1.000000</td>\n",
       "    </tr>\n",
       "  </tbody>\n",
       "</table>\n",
       "</div>"
      ],
      "text/plain": [
       "            row_id         x         y  accuracy      time  place_id\n",
       "row_id    1.000000  0.000051 -0.000085  0.000259  0.000080 -0.000424\n",
       "x         0.000051  1.000000 -0.000338  0.000301 -0.000615 -0.002218\n",
       "y        -0.000085 -0.000338  1.000000  0.000619  0.000638 -0.005038\n",
       "accuracy  0.000259  0.000301  0.000619  1.000000  0.071927  0.000005\n",
       "time      0.000080 -0.000615  0.000638  0.071927  1.000000 -0.002874\n",
       "place_id -0.000424 -0.002218 -0.005038  0.000005 -0.002874  1.000000"
      ]
     },
     "execution_count": 25,
     "metadata": {},
     "output_type": "execute_result"
    }
   ],
   "source": [
    "train.corr()"
   ]
  },
  {
   "cell_type": "code",
   "execution_count": 26,
   "metadata": {
    "collapsed": false
   },
   "outputs": [
    {
     "data": {
      "text/html": [
       "<div>\n",
       "<table border=\"1\" class=\"dataframe\">\n",
       "  <thead>\n",
       "    <tr style=\"text-align: right;\">\n",
       "      <th></th>\n",
       "      <th>row_id</th>\n",
       "      <th>x</th>\n",
       "      <th>y</th>\n",
       "      <th>accuracy</th>\n",
       "      <th>time</th>\n",
       "    </tr>\n",
       "  </thead>\n",
       "  <tbody>\n",
       "    <tr>\n",
       "      <th>row_id</th>\n",
       "      <td>1.000000</td>\n",
       "      <td>0.000019</td>\n",
       "      <td>0.000077</td>\n",
       "      <td>-0.000265</td>\n",
       "      <td>0.000149</td>\n",
       "    </tr>\n",
       "    <tr>\n",
       "      <th>x</th>\n",
       "      <td>0.000019</td>\n",
       "      <td>1.000000</td>\n",
       "      <td>-0.002322</td>\n",
       "      <td>-0.001199</td>\n",
       "      <td>0.001897</td>\n",
       "    </tr>\n",
       "    <tr>\n",
       "      <th>y</th>\n",
       "      <td>0.000077</td>\n",
       "      <td>-0.002322</td>\n",
       "      <td>1.000000</td>\n",
       "      <td>-0.000222</td>\n",
       "      <td>0.001577</td>\n",
       "    </tr>\n",
       "    <tr>\n",
       "      <th>accuracy</th>\n",
       "      <td>-0.000265</td>\n",
       "      <td>-0.001199</td>\n",
       "      <td>-0.000222</td>\n",
       "      <td>1.000000</td>\n",
       "      <td>-0.023771</td>\n",
       "    </tr>\n",
       "    <tr>\n",
       "      <th>time</th>\n",
       "      <td>0.000149</td>\n",
       "      <td>0.001897</td>\n",
       "      <td>0.001577</td>\n",
       "      <td>-0.023771</td>\n",
       "      <td>1.000000</td>\n",
       "    </tr>\n",
       "  </tbody>\n",
       "</table>\n",
       "</div>"
      ],
      "text/plain": [
       "            row_id         x         y  accuracy      time\n",
       "row_id    1.000000  0.000019  0.000077 -0.000265  0.000149\n",
       "x         0.000019  1.000000 -0.002322 -0.001199  0.001897\n",
       "y         0.000077 -0.002322  1.000000 -0.000222  0.001577\n",
       "accuracy -0.000265 -0.001199 -0.000222  1.000000 -0.023771\n",
       "time      0.000149  0.001897  0.001577 -0.023771  1.000000"
      ]
     },
     "execution_count": 26,
     "metadata": {},
     "output_type": "execute_result"
    }
   ],
   "source": [
    "test.corr()"
   ]
  },
  {
   "cell_type": "code",
   "execution_count": 27,
   "metadata": {
    "collapsed": false
   },
   "outputs": [
    {
     "data": {
      "text/html": [
       "<div>\n",
       "<table border=\"1\" class=\"dataframe\">\n",
       "  <thead>\n",
       "    <tr style=\"text-align: right;\">\n",
       "      <th></th>\n",
       "      <th>row_id</th>\n",
       "      <th>x</th>\n",
       "      <th>y</th>\n",
       "      <th>accuracy</th>\n",
       "      <th>time</th>\n",
       "      <th>place_id</th>\n",
       "    </tr>\n",
       "  </thead>\n",
       "  <tbody>\n",
       "    <tr>\n",
       "      <th>row_id</th>\n",
       "      <td>1.000000</td>\n",
       "      <td>0.000825</td>\n",
       "      <td>0.002262</td>\n",
       "      <td>0.000035</td>\n",
       "      <td>0.001709</td>\n",
       "      <td>-0.001461</td>\n",
       "    </tr>\n",
       "    <tr>\n",
       "      <th>x</th>\n",
       "      <td>0.000825</td>\n",
       "      <td>1.000000</td>\n",
       "      <td>0.000127</td>\n",
       "      <td>0.000331</td>\n",
       "      <td>-0.002119</td>\n",
       "      <td>-0.005457</td>\n",
       "    </tr>\n",
       "    <tr>\n",
       "      <th>y</th>\n",
       "      <td>0.002262</td>\n",
       "      <td>0.000127</td>\n",
       "      <td>1.000000</td>\n",
       "      <td>0.000665</td>\n",
       "      <td>-0.000037</td>\n",
       "      <td>-0.000126</td>\n",
       "    </tr>\n",
       "    <tr>\n",
       "      <th>accuracy</th>\n",
       "      <td>0.000035</td>\n",
       "      <td>0.000331</td>\n",
       "      <td>0.000665</td>\n",
       "      <td>1.000000</td>\n",
       "      <td>0.056777</td>\n",
       "      <td>0.000674</td>\n",
       "    </tr>\n",
       "    <tr>\n",
       "      <th>time</th>\n",
       "      <td>0.001709</td>\n",
       "      <td>-0.002119</td>\n",
       "      <td>-0.000037</td>\n",
       "      <td>0.056777</td>\n",
       "      <td>1.000000</td>\n",
       "      <td>-0.000260</td>\n",
       "    </tr>\n",
       "    <tr>\n",
       "      <th>place_id</th>\n",
       "      <td>-0.001461</td>\n",
       "      <td>-0.005457</td>\n",
       "      <td>-0.000126</td>\n",
       "      <td>0.000674</td>\n",
       "      <td>-0.000260</td>\n",
       "      <td>1.000000</td>\n",
       "    </tr>\n",
       "  </tbody>\n",
       "</table>\n",
       "</div>"
      ],
      "text/plain": [
       "            row_id         x         y  accuracy      time  place_id\n",
       "row_id    1.000000  0.000825  0.002262  0.000035  0.001709 -0.001461\n",
       "x         0.000825  1.000000  0.000127  0.000331 -0.002119 -0.005457\n",
       "y         0.002262  0.000127  1.000000  0.000665 -0.000037 -0.000126\n",
       "accuracy  0.000035  0.000331  0.000665  1.000000  0.056777  0.000674\n",
       "time      0.001709 -0.002119 -0.000037  0.056777  1.000000 -0.000260\n",
       "place_id -0.001461 -0.005457 -0.000126  0.000674 -0.000260  1.000000"
      ]
     },
     "execution_count": 27,
     "metadata": {},
     "output_type": "execute_result"
    }
   ],
   "source": [
    "train[train['accuracy'] > 500].corr()"
   ]
  },
  {
   "cell_type": "code",
   "execution_count": 60,
   "metadata": {
    "collapsed": false
   },
   "outputs": [
    {
     "data": {
      "text/html": [
       "<div>\n",
       "<table border=\"1\" class=\"dataframe\">\n",
       "  <thead>\n",
       "    <tr style=\"text-align: right;\">\n",
       "      <th></th>\n",
       "      <th>row_id</th>\n",
       "      <th>x</th>\n",
       "      <th>y</th>\n",
       "      <th>accuracy</th>\n",
       "      <th>time</th>\n",
       "      <th>place_id</th>\n",
       "    </tr>\n",
       "  </thead>\n",
       "  <tbody>\n",
       "    <tr>\n",
       "      <th>row_id</th>\n",
       "      <td>1.000000</td>\n",
       "      <td>0.000034</td>\n",
       "      <td>-0.000135</td>\n",
       "      <td>0.000111</td>\n",
       "      <td>0.000043</td>\n",
       "      <td>-0.000403</td>\n",
       "    </tr>\n",
       "    <tr>\n",
       "      <th>x</th>\n",
       "      <td>0.000034</td>\n",
       "      <td>1.000000</td>\n",
       "      <td>-0.000349</td>\n",
       "      <td>0.000274</td>\n",
       "      <td>-0.000593</td>\n",
       "      <td>-0.002154</td>\n",
       "    </tr>\n",
       "    <tr>\n",
       "      <th>y</th>\n",
       "      <td>-0.000135</td>\n",
       "      <td>-0.000349</td>\n",
       "      <td>1.000000</td>\n",
       "      <td>0.000654</td>\n",
       "      <td>0.000641</td>\n",
       "      <td>-0.005136</td>\n",
       "    </tr>\n",
       "    <tr>\n",
       "      <th>accuracy</th>\n",
       "      <td>0.000111</td>\n",
       "      <td>0.000274</td>\n",
       "      <td>0.000654</td>\n",
       "      <td>1.000000</td>\n",
       "      <td>0.081007</td>\n",
       "      <td>-0.000884</td>\n",
       "    </tr>\n",
       "    <tr>\n",
       "      <th>time</th>\n",
       "      <td>0.000043</td>\n",
       "      <td>-0.000593</td>\n",
       "      <td>0.000641</td>\n",
       "      <td>0.081007</td>\n",
       "      <td>1.000000</td>\n",
       "      <td>-0.002945</td>\n",
       "    </tr>\n",
       "    <tr>\n",
       "      <th>place_id</th>\n",
       "      <td>-0.000403</td>\n",
       "      <td>-0.002154</td>\n",
       "      <td>-0.005136</td>\n",
       "      <td>-0.000884</td>\n",
       "      <td>-0.002945</td>\n",
       "      <td>1.000000</td>\n",
       "    </tr>\n",
       "  </tbody>\n",
       "</table>\n",
       "</div>"
      ],
      "text/plain": [
       "            row_id         x         y  accuracy      time  place_id\n",
       "row_id    1.000000  0.000034 -0.000135  0.000111  0.000043 -0.000403\n",
       "x         0.000034  1.000000 -0.000349  0.000274 -0.000593 -0.002154\n",
       "y        -0.000135 -0.000349  1.000000  0.000654  0.000641 -0.005136\n",
       "accuracy  0.000111  0.000274  0.000654  1.000000  0.081007 -0.000884\n",
       "time      0.000043 -0.000593  0.000641  0.081007  1.000000 -0.002945\n",
       "place_id -0.000403 -0.002154 -0.005136 -0.000884 -0.002945  1.000000"
      ]
     },
     "execution_count": 60,
     "metadata": {},
     "output_type": "execute_result"
    }
   ],
   "source": [
    "train[train['accuracy'] < 500].corr()"
   ]
  },
  {
   "cell_type": "code",
   "execution_count": 67,
   "metadata": {
    "collapsed": false
   },
   "outputs": [
    {
     "name": "stdout",
     "output_type": "stream",
     "text": [
      "   row_id       x       y  accuracy    time    place_id    quadrant\n",
      "0       0  0.7941  9.0809        54  470702  8523065625   1.0_454.0\n",
      "1       1  5.9567  4.7968        13  186555  1757726713  11.0_239.0\n",
      "2       2  8.3078  7.0407        74  322648  1137537235  16.0_352.0\n",
      "3       3  7.3665  2.5165        65  704587  6567393236  14.0_125.0\n",
      "4       4  4.0961  1.1307        31  472130  7440663949    8.0_56.0\n"
     ]
    }
   ],
   "source": [
    "step = 100;\n",
    "\n",
    "train_quadrant = train[['x']] // 0.5\n",
    "train_quadrant['y'] = train[['y']] // 0.02\n",
    "\n",
    "train['quadrant'] = train_quadrant['x'].apply(str) + '_' + train_quadrant['y'].apply(str)\n",
    "print train[:5]"
   ]
  },
  {
   "cell_type": "code",
   "execution_count": 58,
   "metadata": {
    "collapsed": false
   },
   "outputs": [
    {
     "name": "stdout",
     "output_type": "stream",
     "text": [
      "          place_id  quadrant\n",
      "place_id  1.000000 -0.005044\n",
      "quadrant -0.005044  1.000000\n"
     ]
    }
   ],
   "source": [
    "print train[['place_id', 'quadrant']].corr()"
   ]
  },
  {
   "cell_type": "code",
   "execution_count": 68,
   "metadata": {
    "collapsed": false
   },
   "outputs": [],
   "source": [
    "train_grouped  = train.groupby(\"quadrant\").agg({\"place_id\": lambda x: x.nunique()})"
   ]
  },
  {
   "cell_type": "code",
   "execution_count": 69,
   "metadata": {
    "collapsed": false
   },
   "outputs": [
    {
     "name": "stdout",
     "output_type": "stream",
     "text": [
      "277\n",
      "1\n",
      "204.207129381\n",
      "           place_id\n",
      "quadrant           \n",
      "0.0_0.0          97\n",
      "0.0_1.0         129\n",
      "0.0_10.0        155\n",
      "0.0_100.0       169\n",
      "0.0_101.0       192\n"
     ]
    }
   ],
   "source": [
    "print train_grouped.place_id.max()\n",
    "print train_grouped.place_id.min()\n",
    "print train_grouped.place_id.mean()\n",
    "print train_grouped[:5]"
   ]
  },
  {
   "cell_type": "code",
   "execution_count": 39,
   "metadata": {
    "collapsed": true
   },
   "outputs": [],
   "source": [
    "train_grouped_by_quadrant = train.groupby(\"quadrant\").agg({\"place_id\": lambda x: x.nunique()})"
   ]
  },
  {
   "cell_type": "code",
   "execution_count": 40,
   "metadata": {
    "collapsed": false
   },
   "outputs": [
    {
     "name": "stdout",
     "output_type": "stream",
     "text": [
      "629\n",
      "1\n",
      "490.947985921\n",
      "           place_id\n",
      "quadrant           \n",
      "0.0_0.0         256\n",
      "0.0_1.0         352\n",
      "0.0_10.0        448\n",
      "0.0_100.0       467\n",
      "0.0_101.0       470\n"
     ]
    }
   ],
   "source": [
    "print train_grouped_by_quadrant.place_id.max()\n",
    "print train_grouped_by_quadrant.place_id.min()\n",
    "print train_grouped_by_quadrant.place_id.mean()\n",
    "print train_grouped_by_quadrant[:5]"
   ]
  },
  {
   "cell_type": "code",
   "execution_count": 63,
   "metadata": {
    "collapsed": false
   },
   "outputs": [
    {
     "name": "stdout",
     "output_type": "stream",
     "text": [
      "   quadrant  place_id\n",
      "0         0       138\n",
      "1         1       168\n",
      "2         2       186\n",
      "3         3       173\n",
      "4         4       156\n"
     ]
    }
   ],
   "source": [
    "print train_grouped_by_quadrant.reset_index()[:5]"
   ]
  },
  {
   "cell_type": "code",
   "execution_count": 65,
   "metadata": {
    "collapsed": false
   },
   "outputs": [
    {
     "data": {
      "text/plain": [
       "<matplotlib.axes.AxesSubplot at 0x14ead9250>"
      ]
     },
     "execution_count": 65,
     "metadata": {},
     "output_type": "execute_result"
    },
    {
     "data": {
      "image/png": "[encoded data removed]",
      "text/plain": [
       "<matplotlib.figure.Figure at 0x153b90f90>"
      ]
     },
     "metadata": {},
     "output_type": "display_data"
    }
   ],
   "source": [
    "train_grouped_by_quadrant.reset_index()['quadrant'].hist(bins=1000, figsize=(20,12))"
   ]
  },
  {
   "cell_type": "code",
   "execution_count": 55,
   "metadata": {
    "collapsed": false
   },
   "outputs": [
    {
     "data": {
      "text/plain": [
       "<matplotlib.axes.AxesSubplot at 0x117a64810>"
      ]
     },
     "execution_count": 55,
     "metadata": {},
     "output_type": "execute_result"
    },
    {
     "data": {
      "image/png": "[encoded data removed]",
      "text/plain": [
       "<matplotlib.figure.Figure at 0x117a4b650>"
      ]
     },
     "metadata": {},
     "output_type": "display_data"
    }
   ],
   "source": [
    "test['accuracy'].hist(bins=500, figsize=(20,12))"
   ]
  },
  {
   "cell_type": "code",
   "execution_count": 8,
   "metadata": {
    "collapsed": false
   },
   "outputs": [
    {
     "data": {
      "text/plain": [
       "<matplotlib.axes.AxesSubplot at 0x10d6c6a10>"
      ]
     },
     "execution_count": 8,
     "metadata": {},
     "output_type": "execute_result"
    },
    {
     "data": {
      "image/png": "[encoded data removed]",
      "text/plain": [
       "<matplotlib.figure.Figure at 0x107771f10>"
      ]
     },
     "metadata": {},
     "output_type": "display_data"
    }
   ],
   "source": [
    "train_count = train.groupby(\"place_id\").size().reset_index()\n",
    "train_count.columns = ['place_id', 'count']\n",
    "train_count['count'].hist(bins = 200, figsize=(20,12))"
   ]
  },
  {
   "cell_type": "code",
   "execution_count": 3,
   "metadata": {
    "collapsed": false
   },
   "outputs": [],
   "source": [
    "train_max_dist = pd.DataFrame();\n",
    "train_max_dist['minx'] = train.groupby(\"place_id\").agg({\"x\": lambda x: min(x)}).reset_index()['x']\n",
    "train_max_dist['maxx'] = train.groupby(\"place_id\").agg({\"x\": lambda x: max(x)}).reset_index()['x']\n",
    "train_max_dist['miny'] = train.groupby(\"place_id\").agg({\"y\": lambda y: min(y)}).reset_index()['y']\n",
    "train_max_dist['maxy'] = train.groupby(\"place_id\").agg({\"y\": lambda y: max(y)}).reset_index()['y']\n",
    "\n",
    "train_max_dist['maxdistx'] = train_max_dist['maxx'] - train_max_dist['minx'] \n",
    "train_max_dist['maxdisty'] = train_max_dist['maxy'] - train_max_dist['miny']\n",
    "\n",
    "train_max_dist['maxdistx'] = train_max_dist['maxdistx'].abs();\n",
    "train_max_dist['maxdisty'] = train_max_dist['maxdisty'].abs();\n"
   ]
  },
  {
   "cell_type": "code",
   "execution_count": 47,
   "metadata": {
    "collapsed": false
   },
   "outputs": [
    {
     "name": "stdout",
     "output_type": "stream",
     "text": [
      "     minx    maxx    miny    maxy  maxdistx  maxdisty\n",
      "0  1.6174  3.6009  5.4939  5.5932    1.9835    0.0993\n",
      "1  6.8487  7.8008  4.3191  4.3715    0.9521    0.0524\n",
      "2  0.6120  2.2128  5.5443  5.5980    1.6008    0.0537\n",
      "3  0.5315  9.6667  5.7566  5.8791    9.1352    0.1225\n",
      "4  1.9661  9.2497  7.4749  7.9552    7.2836    0.4803\n",
      "\n",
      "\n",
      "9.116\n",
      "9.9993\n",
      "\n",
      "\n",
      "0.212383289049\n",
      "5.96165545438\n"
     ]
    }
   ],
   "source": [
    "print train_max_dist[:5]\n",
    "print\n",
    "print\n",
    "print train_max_dist.maxdisty.max();\n",
    "print train_max_dist.maxdistx.max();\n",
    "print\n",
    "print\n",
    "print train_max_dist.maxdisty.mean();\n",
    "print train_max_dist.maxdistx.mean();"
   ]
  },
  {
   "cell_type": "code",
   "execution_count": 49,
   "metadata": {
    "collapsed": false
   },
   "outputs": [
    {
     "data": {
      "text/plain": [
       "<matplotlib.axes.AxesSubplot at 0x11687e890>"
      ]
     },
     "execution_count": 49,
     "metadata": {},
     "output_type": "execute_result"
    },
    {
     "data": {
      "image/png": "[encoded data removed]",
      "text/plain": [
       "<matplotlib.figure.Figure at 0x117236fd0>"
      ]
     },
     "metadata": {},
     "output_type": "display_data"
    }
   ],
   "source": [
    "train_max_dist[\"maxdistx\"].hist(bins=200, figsize=(18,10))"
   ]
  },
  {
   "cell_type": "code",
   "execution_count": 4,
   "metadata": {
    "collapsed": false
   },
   "outputs": [
    {
     "data": {
      "text/plain": [
       "<matplotlib.axes.AxesSubplot at 0x10cc00b50>"
      ]
     },
     "execution_count": 4,
     "metadata": {},
     "output_type": "execute_result"
    },
    {
     "data": {
      "image/png": "[encoded data removed]",
      "text/plain": [
       "<matplotlib.figure.Figure at 0x10cc6d4d0>"
      ]
     },
     "metadata": {},
     "output_type": "display_data"
    }
   ],
   "source": [
    "train_max_dist[\"maxdisty\"].hist(bins=200, figsize=(18,10))"
   ]
  },
  {
   "cell_type": "code",
   "execution_count": 12,
   "metadata": {
    "collapsed": false
   },
   "outputs": [],
   "source": [
    "train_ha_max_dist = pd.DataFrame();\n",
    "train_ha_max_dist['minx'] = train[train['accuracy'] > 500].groupby(\"place_id\").agg({\"x\": lambda x: min(x)}).reset_index()['x']\n",
    "train_ha_max_dist['maxx'] = train[train['accuracy'] > 500].groupby(\"place_id\").agg({\"x\": lambda x: max(x)}).reset_index()['x']\n",
    "train_ha_max_dist['miny'] = train[train['accuracy'] > 500].groupby(\"place_id\").agg({\"y\": lambda y: min(y)}).reset_index()['y']\n",
    "train_ha_max_dist['maxy'] = train[train['accuracy'] > 500].groupby(\"place_id\").agg({\"y\": lambda y: max(y)}).reset_index()['y']\n",
    "\n",
    "train_ha_max_dist['maxdistx'] = train_ha_max_dist['maxx'] - train_ha_max_dist['minx'] \n",
    "train_ha_max_dist['maxdisty'] = train_ha_max_dist['maxy'] - train_ha_max_dist['miny']\n",
    "\n",
    "train_ha_max_dist['maxdistx'] = train_ha_max_dist['maxdistx'].abs();\n",
    "train_ha_max_dist['maxdisty'] = train_ha_max_dist['maxdisty'].abs();"
   ]
  },
  {
   "cell_type": "code",
   "execution_count": 20,
   "metadata": {
    "collapsed": false
   },
   "outputs": [
    {
     "name": "stdout",
     "output_type": "stream",
     "text": [
      "     minx    maxx    miny    maxy  maxdistx  maxdisty\n",
      "0  2.6915  2.6915  5.5346  5.5346    0.0000    0.0000\n",
      "1  0.9771  1.2611  5.5577  5.5861    0.2840    0.0284\n",
      "2  0.5315  6.0321  5.7929  5.8502    5.5006    0.0573\n",
      "3  4.4086  5.9554  7.4749  7.5642    1.5468    0.0893\n",
      "4  0.2846  3.4308  0.5837  0.8402    3.1462    0.2565\n",
      "\n",
      "\n",
      "3.2794\n",
      "9.9014\n",
      "\n",
      "\n",
      "0.0343754968941\n",
      "1.22114161508\n"
     ]
    }
   ],
   "source": [
    "print train_ha_max_dist[:5]\n",
    "print\n",
    "print\n",
    "print train_ha_max_dist.maxdisty.max();\n",
    "print train_ha_max_dist.maxdistx.max();\n",
    "print\n",
    "print\n",
    "print train_ha_max_dist.maxdisty.mean();\n",
    "print train_ha_max_dist.maxdistx.mean();"
   ]
  },
  {
   "cell_type": "code",
   "execution_count": 14,
   "metadata": {
    "collapsed": false
   },
   "outputs": [
    {
     "data": {
      "text/plain": [
       "<matplotlib.axes.AxesSubplot at 0x10fa9c710>"
      ]
     },
     "execution_count": 14,
     "metadata": {},
     "output_type": "execute_result"
    },
    {
     "data": {
      "image/png": "[encoded data removed]",
      "text/plain": [
       "<matplotlib.figure.Figure at 0x10f372990>"
      ]
     },
     "metadata": {},
     "output_type": "display_data"
    }
   ],
   "source": [
    "train_ha_max_dist[\"maxdistx\"].hist(bins=200, figsize=(18,10))"
   ]
  },
  {
   "cell_type": "code",
   "execution_count": 15,
   "metadata": {
    "collapsed": false
   },
   "outputs": [
    {
     "data": {
      "text/plain": [
       "<matplotlib.axes.AxesSubplot at 0x1104ceed0>"
      ]
     },
     "execution_count": 15,
     "metadata": {},
     "output_type": "execute_result"
    },
    {
     "data": {
      "image/png": "[encoded data removed]",
      "text/plain": [
       "<matplotlib.figure.Figure at 0x10f5f4210>"
      ]
     },
     "metadata": {},
     "output_type": "display_data"
    }
   ],
   "source": [
    "train_ha_max_dist[\"maxdisty\"].hist(bins=200, figsize=(18,10))"
   ]
  },
  {
   "cell_type": "code",
   "execution_count": 17,
   "metadata": {
    "collapsed": true
   },
   "outputs": [],
   "source": [
    "train_la_max_dist = pd.DataFrame();\n",
    "train_la_max_dist['minx'] = train[train['accuracy'] < 500].groupby(\"place_id\").agg({\"x\": lambda x: min(x)}).reset_index()['x']\n",
    "train_la_max_dist['maxx'] = train[train['accuracy'] < 500].groupby(\"place_id\").agg({\"x\": lambda x: max(x)}).reset_index()['x']\n",
    "train_la_max_dist['miny'] = train[train['accuracy'] < 500].groupby(\"place_id\").agg({\"y\": lambda y: min(y)}).reset_index()['y']\n",
    "train_la_max_dist['maxy'] = train[train['accuracy'] < 500].groupby(\"place_id\").agg({\"y\": lambda y: max(y)}).reset_index()['y']\n",
    "\n",
    "train_la_max_dist['maxdistx'] = train_la_max_dist['maxx'] - train_la_max_dist['minx'] \n",
    "train_la_max_dist['maxdisty'] = train_la_max_dist['maxy'] - train_la_max_dist['miny']\n",
    "\n",
    "train_la_max_dist['maxdistx'] = train_la_max_dist['maxdistx'].abs();\n",
    "train_la_max_dist['maxdisty'] = train_la_max_dist['maxdisty'].abs();"
   ]
  },
  {
   "cell_type": "code",
   "execution_count": 21,
   "metadata": {
    "collapsed": false
   },
   "outputs": [
    {
     "name": "stdout",
     "output_type": "stream",
     "text": [
      "     minx    maxx    miny    maxy  maxdistx  maxdisty\n",
      "0  1.6174  3.6009  5.4939  5.5932    1.9835    0.0993\n",
      "1  6.8487  7.8008  4.3191  4.3715    0.9521    0.0524\n",
      "2  0.6120  2.2128  5.5443  5.5980    1.6008    0.0537\n",
      "3  0.6817  9.6667  5.7566  5.8791    8.9850    0.1225\n",
      "4  1.9661  9.2497  7.5280  7.9552    7.2836    0.4272\n",
      "\n",
      "\n",
      "9.116\n",
      "9.9993\n",
      "\n",
      "\n",
      "0.209681535679\n",
      "5.90097842077\n"
     ]
    }
   ],
   "source": [
    "print train_la_max_dist[:5]\n",
    "print\n",
    "print\n",
    "print train_la_max_dist.maxdisty.max();\n",
    "print train_la_max_dist.maxdistx.max();\n",
    "print\n",
    "print\n",
    "print train_la_max_dist.maxdisty.mean();\n",
    "print train_la_max_dist.maxdistx.mean();"
   ]
  },
  {
   "cell_type": "code",
   "execution_count": 18,
   "metadata": {
    "collapsed": false
   },
   "outputs": [
    {
     "data": {
      "text/plain": [
       "<matplotlib.axes.AxesSubplot at 0x11187add0>"
      ]
     },
     "execution_count": 18,
     "metadata": {},
     "output_type": "execute_result"
    },
    {
     "data": {
      "image/png": "[encoded data removed]",
      "text/plain": [
       "<matplotlib.figure.Figure at 0x11187a250>"
      ]
     },
     "metadata": {},
     "output_type": "display_data"
    }
   ],
   "source": [
    "train_la_max_dist[\"maxdistx\"].hist(bins=200, figsize=(18,10))"
   ]
  },
  {
   "cell_type": "code",
   "execution_count": 19,
   "metadata": {
    "collapsed": false
   },
   "outputs": [
    {
     "data": {
      "text/plain": [
       "<matplotlib.axes.AxesSubplot at 0x111461910>"
      ]
     },
     "execution_count": 19,
     "metadata": {},
     "output_type": "execute_result"
    },
    {
     "data": {
      "image/png": "[encoded data removed]",
      "text/plain": [
       "<matplotlib.figure.Figure at 0x11311b890>"
      ]
     },
     "metadata": {},
     "output_type": "display_data"
    }
   ],
   "source": [
    "train_max_dist[\"maxdisty\"].hist(bins=200, figsize=(18,10))"
   ]
  },
  {
   "cell_type": "code",
   "execution_count": null,
   "metadata": {
    "collapsed": true
   },
   "outputs": [],
   "source": []
  }
 ],
 "metadata": {
  "kernelspec": {
   "display_name": "Python 2",
   "language": "python",
   "name": "python2"
  },
  "language_info": {
   "codemirror_mode": {
    "name": "ipython",
    "version": 2
   },
   "file_extension": ".py",
   "mimetype": "text/x-python",
   "name": "python",
   "nbconvert_exporter": "python",
   "pygments_lexer": "ipython2",
   "version": "2.7.10"
  }
 },
 "nbformat": 4,
 "nbformat_minor": 0
}
