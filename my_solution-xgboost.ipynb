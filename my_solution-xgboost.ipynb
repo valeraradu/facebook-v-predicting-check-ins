{
 "cells": [
  {
   "cell_type": "code",
   "execution_count": 28,
   "metadata": {
    "collapsed": false
   },
   "outputs": [],
   "source": [
    "import multiprocessing\n",
    "from multiprocessing import Process\n",
    "from multiprocessing import Manager\n",
    "\n",
    "import sys, os\n",
    "import xgboost\n",
    "from sklearn.linear_model import LogisticRegression\n",
    "import pandas as pd\n",
    "import numpy as np\n",
    "import datetime\n",
    "import time\n",
    "import os\n",
    "from sklearn.ensemble import GradientBoostingClassifier\n",
    "from sklearn.ensemble import RandomForestClassifier\n",
    "from ml_metrics import mapk\n",
    "from sklearn.preprocessing import LabelEncoder\n",
    "\n",
    "pd.options.mode.chained_assignment = None  # default='warn'"
   ]
  },
  {
   "cell_type": "code",
   "execution_count": 18,
   "metadata": {
    "collapsed": false
   },
   "outputs": [],
   "source": [
    "def prepare_data(df):\n",
    "    \"\"\"\n",
    "    Feature engineering\n",
    "    \"\"\"\n",
    "\n",
    "    minute = df.time % 60\n",
    "    df['hour'] = df['time'] // 60\n",
    "    #df.drop(['time'], axis=1, inplace=True)\n",
    "    df['weekday'] = df['hour'] // 24\n",
    "    df['month'] = df['weekday'] // 30\n",
    "    df['year'] = (df['weekday'] // 365 + 1) * 10.0\n",
    "    df['hour'] = ((df['hour'] % 24 + 1) + minute / 60.0) * 4.0\n",
    "    df['weekday'] = (df['weekday'] % 7 + 1) * 3.0\n",
    "    df['month'] = (df['month'] % 12 + 1) * 2.0\n",
    "    df['accuracy'] = np.log10(df['accuracy']) * 10.0\n",
    "\n",
    "    return df\n",
    "\n",
    "train = pd.read_csv('./train.csv')\n",
    "test = pd.read_csv('./test.csv')\n",
    "\n",
    "train = prepare_data(train)\n",
    "test = prepare_data(test)"
   ]
  },
  {
   "cell_type": "code",
   "execution_count": 71,
   "metadata": {
    "collapsed": false
   },
   "outputs": [],
   "source": [
    "def xfrange(start, end, step):\n",
    "    gens = [];\n",
    "    end = round(end, 2)\n",
    "    start = round(start, 2)\n",
    "    while(start < end):\n",
    "        gens.append(start)\n",
    "        start = round(start + step, 2)\n",
    "            \n",
    "    return gens\n",
    "        \n",
    "def gen_ranges(start, end, step):\n",
    "    return zip(xfrange(start, end, step), xfrange(start + step, end + step, step));\n",
    "\n",
    "size = 10.0;\n",
    "\n",
    "x_step = 0.2\n",
    "y_step = 0.08\n",
    "\n",
    "x_ranges = gen_ranges(0, size, x_step);\n",
    "y_ranges = gen_ranges(0, size, y_step);"
   ]
  },
  {
   "cell_type": "code",
   "execution_count": 35,
   "metadata": {
    "collapsed": false
   },
   "outputs": [
    {
     "name": "stdout",
     "output_type": "stream",
     "text": [
      "(1208069, 10)\n",
      "(172581, 10)\n",
      "(1035488, 10)\n"
     ]
    }
   ],
   "source": [
    "size_cv = 2.0;\n",
    "\n",
    "x_cv_start = 2;\n",
    "x_cv_end = x_cv_start + size_cv\n",
    "y_cv_start = 2;\n",
    "y_cv_end = y_cv_start + size_cv;\n",
    "\n",
    "cv = train[(train['x'] >= x_cv_start) & \n",
    "           (train['x'] <= x_cv_end) &\n",
    "           (train['y'] >= y_cv_start) &\n",
    "           (train['y'] <= y_cv_end)]\n",
    "\n",
    "cv = cv.sort_values(by='time', axis=0, ascending=True)\n",
    "train_cv = cv[:cv.shape[0]//7]\n",
    "test_cv = cv[cv.shape[0]//7:]\n",
    "\n",
    "print cv.shape\n",
    "print train_cv.shape\n",
    "print test_cv.shape"
   ]
  },
  {
   "cell_type": "code",
   "execution_count": 64,
   "metadata": {
    "collapsed": false
   },
   "outputs": [],
   "source": [
    "x_step = 0.2\n",
    "y_step = 0.08\n",
    "\n",
    "x_ranges_cv = gen_ranges(x_cv_start, x_cv_end, x_step);\n",
    "y_ranges_cv = gen_ranges(y_cv_start, y_cv_end, y_step);"
   ]
  },
  {
   "cell_type": "code",
   "execution_count": 73,
   "metadata": {
    "collapsed": false,
    "scrolled": false
   },
   "outputs": [],
   "source": [
    "def process_column(x_min, x_max, y_ranges, x_end, y_end, train, test, raw_output, th, preds_total):\n",
    "    start_time_column = time.time()\n",
    "    preds_total[x_min] = pd.DataFrame();\n",
    "    for y_min, y_max in  y_ranges: \n",
    "        start_time_cell = time.time()\n",
    "        if x_max == x_end:\n",
    "            x_max = x_end + 0.001\n",
    "\n",
    "        if y_max == y_end:\n",
    "            y_max = y_end + 0.001\n",
    "\n",
    "        train_cell = train[(train['x'] >= x_min - 0.03) &\n",
    "                           (train['x'] < x_max + 0.03) &\n",
    "                           (train['y'] >= y_min - 0.015) &\n",
    "                           (train['y'] < y_max + 0.015)]\n",
    "        shape = train_cell.shape\n",
    "        add_data = train_cell[train_cell.hour<10]# add data for periodic time that hit the boundary\n",
    "        add_data.hour = add_data.hour+96\n",
    "\n",
    "        add_data2 = train_cell[train_cell.hour>90]\n",
    "        add_data2.hour = add_data2.hour-96\n",
    "\n",
    "        train_cell = train_cell.append(add_data)\n",
    "        train_cell = train_cell.append(add_data2)\n",
    "        del add_data,add_data2\n",
    "        #print str(shape) + 'after' + str(train_cell.shape)\n",
    "\n",
    "        train_cell = train_cell.drop(['time'], axis=1)\n",
    "        train_cell = train_cell.groupby(\"place_id\").filter(lambda x: len(x) >= th)\n",
    "\n",
    "        test_cell = test[(test['x'] >= x_min) &\n",
    "                         (test['x'] < x_max) &\n",
    "                         (test['y'] >= y_min) &\n",
    "                         (test['y'] < y_max)]\n",
    "\n",
    "        row_ids = test_cell['row_id'].reset_index(drop=True);\n",
    "        test_cell = test_cell.drop(['row_id', 'time', 'year'], axis=1)\n",
    "\n",
    "        le = LabelEncoder()\n",
    "\n",
    "        y = le.fit_transform(train_cell.place_id.values)\n",
    "        X = train_cell.drop(['row_id', 'place_id', 'year'], axis=1)\n",
    "\n",
    "        # Construct DMatrices\n",
    "        dm_train = xgboost.DMatrix(X.as_matrix(), label=y)\n",
    "        dm_test = xgboost.DMatrix(test_cell.as_matrix())\n",
    "        # use the XGBoost built in cross validation function,\n",
    "        # stopping early to prevent overfitting\n",
    "        '''res = xgboost.cv(\n",
    "            {'eta': 0.1, 'objective': 'multi:softprob',\n",
    "             'num_class': len(le.classes_),\n",
    "             'alpha': 0.1, 'lambda': 0.1, 'booster': 'gbtree'},\n",
    "            dm_train, num_boost_round=200, nfold=5, seed=42,\n",
    "            early_stopping_rounds=10#, verbose_eval=10\n",
    "            # For some reason, verbose_eval seems to be broken on my install\n",
    "        )\n",
    "        print(res)'''\n",
    "\n",
    "        # this will be the number of epochs that (approximately) prevents\n",
    "        # overfitting\n",
    "        N_epochs = 35#res.shape[0]\n",
    "\n",
    "        booster = xgboost.train(\n",
    "            {'eta': 0.1, 'objective': 'multi:softprob',\n",
    "             'num_class': len(le.classes_),\n",
    "             'alpha': 0.1, 'lambda': 0.1, 'booster': 'gbtree'},\n",
    "            dm_train, num_boost_round=N_epochs, verbose_eval=10)\n",
    "\n",
    "        y_pred = booster.predict(dm_test)\n",
    "\n",
    "        preds = le.inverse_transform(np.argsort(y_pred, axis=1)[:,::-1][:,:3])\n",
    "        preds = pd.DataFrame.from_dict(preds)\n",
    "        preds['row_id'] = row_ids;\n",
    "        preds = preds.set_index('row_id')\n",
    "        preds.index.name = 'row_id';\n",
    "        \n",
    "        preds_all = dict(zip(le.classes_, zip(*y_pred)))\n",
    "        preds_all = pd.DataFrame.from_dict(preds_all)\n",
    "        preds_all.to_csv(\"./raw/\" + raw_output + str(x_min) + \"_\" + str(y_min) + \".csv\", index = False);\n",
    "        #print preds_all.shape\n",
    "        preds_total[x_min] = pd.concat([preds_total[x_min], preds], axis=0);\n",
    "    print(\"Elapsed time column: %s minutes\" % ((time.time() - start_time_column)/60))\n",
    "\n",
    "def model(x_ranges, y_ranges, x_end, y_end, train, test, raw_output, th):   \n",
    "    start_time = time.time()\n",
    "    jobs = []\n",
    "    mgr = Manager()\n",
    "    preds_total = mgr.dict();\n",
    "\n",
    "    for x_min, x_max in  x_ranges:\n",
    "        p = multiprocessing.Process(target=process_column, args=(x_min, x_max, y_ranges, \\\n",
    "                                                                 x_end, y_end, train, test, raw_output, 3, preds_total))\n",
    "        jobs.append(p)\n",
    "        p.start()\n",
    "        if len(jobs) == 5:\n",
    "            for proc in jobs:\n",
    "                proc.join();\n",
    "            jobs = [];\n",
    "        \n",
    "    print(\"Elapsed time overall: %s minutes\" % ((time.time() - start_time)/60))\n",
    "    \n",
    "    preds_total = pd.concat(preds_total.values(), axis=0);\n",
    "    print preds_total.shape\n",
    "    \n",
    "    return preds_total.sort_values(by='row_id', axis=0, ascending=True);\n",
    "\n",
    "def modelq(x_ranges, y_ranges, x_end, y_end, train, test, raw_output, th):   \n",
    "    start_time = time.time()\n",
    "    jobs = []\n",
    "    mgr = Manager()\n",
    "    preds_total = mgr.dict();\n",
    "\n",
    "    for x_min, x_max in  x_ranges:\n",
    "        \n",
    "        if x_max == x_end:\n",
    "            x_max = x_max + 0.001\n",
    "                \n",
    "        train_column = train[(train['x'] >= x_min - 0.03) &\n",
    "                             (train['x'] < x_max + 0.03)]\n",
    "        \n",
    "        test_column = test[(test['x'] >= x_min) &\n",
    "                             (test['x'] < x_max)]\n",
    "        \n",
    "        p = multiprocessing.Process(target=process_column, args=(x_min, x_max, y_ranges, \\\n",
    "                                                                 x_end, y_end, train_column, test_column,\n",
    "                                                                 raw_output, th, preds_total))\n",
    "        jobs.append(p)\n",
    "        p.start()\n",
    "        if len(jobs) == 10:\n",
    "            for proc in jobs:\n",
    "                proc.join();\n",
    "            jobs = [];\n",
    "        \n",
    "    print(\"Elapsed time overall: %s minutes\" % ((time.time() - start_time)/60))\n",
    "    \n",
    "    preds_total = pd.concat(preds_total.values(), axis=0);\n",
    "    print preds_total.shape\n",
    "    \n",
    "    return preds_total.sort_index();"
   ]
  },
  {
   "cell_type": "code",
   "execution_count": 66,
   "metadata": {
    "collapsed": false
   },
   "outputs": [
    {
     "name": "stdout",
     "output_type": "stream",
     "text": [
      "Elapsed time column: 8.69479350249 minutes\n",
      "Elapsed time column: 9.02213106553 minutes\n",
      "Elapsed time column: 9.17870934804 minutes\n",
      "Elapsed time column: 9.91766578356 minutes\n",
      "Elapsed time overall: 9.92024463415 minutes\n",
      "(1035488, 3)\n"
     ]
    },
    {
     "name": "stderr",
     "output_type": "stream",
     "text": [
      "/Library/Python/2.7/site-packages/ipykernel/__main__.py:2: FutureWarning: sort(....) is deprecated, use sort_index(.....)\n",
      "  from ipykernel import kernelapp as app\n"
     ]
    },
    {
     "name": "stdout",
     "output_type": "stream",
     "text": [
      "0.446849215056\n"
     ]
    }
   ],
   "source": [
    "predictions = modelq(x_ranges_cv, y_ranges_cv, x_cv_end, y_cv_end, train_cv, test_cv.drop(['place_id'], axis=1),\\\n",
    "                    'cv/xgb/', 8);\n",
    "actual = test_cv[['place_id']].sort();\n",
    "print mapk(np.array([actual.values.flatten()]).T, predictions.values, 3)"
   ]
  },
  {
   "cell_type": "code",
   "execution_count": 65,
   "metadata": {
    "collapsed": false
   },
   "outputs": [
    {
     "name": "stdout",
     "output_type": "stream",
     "text": [
      "(1035488, 3)\n",
      "              0           1           2\n",
      "16   3369021322  4939682720  6052372179\n",
      "82   9313893105  4184942588  1785058724\n",
      "91   4639582171  4464263185  1312011163\n",
      "123  8724107029  1940379729  9735105400\n",
      "163  4634909749  8980163153  3610237287\n",
      "(1035488, 1)\n",
      "       place_id\n",
      "16   2123587484\n",
      "82   9313893105\n",
      "91   4639582171\n",
      "123  8724107029\n",
      "163  3869813743\n"
     ]
    }
   ],
   "source": [
    "print predictions.shape\n",
    "print predictions[:5]\n",
    "print actual.shape\n",
    "print actual[:5]"
   ]
  },
  {
   "cell_type": "code",
   "execution_count": 74,
   "metadata": {
    "collapsed": false
   },
   "outputs": [
    {
     "name": "stdout",
     "output_type": "stream",
     "text": [
      "Elapsed time column: 124.139323052 minutes\n",
      "Elapsed time column: 179.587287267 minutes\n",
      "Elapsed time column: 189.770548499 minutes\n",
      "Elapsed time column: 192.302193685 minutes\n",
      "Elapsed time column: 192.742986917 minutes\n",
      "Elapsed time column: 194.542433751 minutes\n",
      "Elapsed time column: 201.535967366 minutes\n",
      "Elapsed time column: 203.951551517 minutes\n",
      "Elapsed time column: 206.031371534 minutes\n",
      "Elapsed time column: 206.343225133 minutes\n",
      "Elapsed time column: 235.390047598 minutes\n",
      "Elapsed time column: 235.831229516 minutes\n",
      "Elapsed time column: 236.753945001 minutes\n",
      "Elapsed time column: 238.187316132 minutes\n",
      "Elapsed time column: 238.430221732 minutes\n",
      "Elapsed time column: 238.464797548 minutes\n",
      "Elapsed time column: 241.935420982 minutes\n",
      "Elapsed time column: 243.377277565 minutes\n",
      "Elapsed time column: 243.528731918 minutes\n",
      "Elapsed time column: 243.571000954 minutes\n",
      "Elapsed time column: 242.315373067 minutes\n",
      "Elapsed time column: 243.8879209 minutes\n",
      "Elapsed time column: 247.358157949 minutes\n",
      "Elapsed time column: 248.279496932 minutes\n",
      "Elapsed time column: 248.281928718 minutes\n",
      "Elapsed time column: 248.857057416 minutes\n",
      "Elapsed time column: 249.6838727 minutes\n",
      "Elapsed time column: 249.661731585 minutes\n",
      "Elapsed time column: 251.809757348 minutes\n",
      "Elapsed time column: 253.830493013 minutes\n",
      "Elapsed time column: 233.525803117 minutes\n",
      "Elapsed time column: 237.532164884 minutes\n",
      "Elapsed time column: 240.769001281 minutes\n",
      "Elapsed time column: 241.373804998 minutes\n",
      "Elapsed time column: 242.589142998 minutes\n",
      "Elapsed time column: 243.15653015 minutes\n",
      "Elapsed time column: 243.383855116 minutes\n",
      "Elapsed time column: 243.739930665 minutes\n",
      "Elapsed time column: 245.276422532 minutes\n",
      "Elapsed time column: 248.712272767 minutes\n",
      "Elapsed time column: 121.72532775 minutes\n",
      "Elapsed time column: 175.598439201 minutes\n",
      "Elapsed time column: 183.359743865 minutes\n",
      "Elapsed time column: 190.705586584 minutes\n",
      "Elapsed time column: 195.00592895 minutes\n",
      "Elapsed time column: 201.337035 minutes\n",
      "Elapsed time column: 201.511523302 minutes\n",
      "Elapsed time column: 203.34299645 minutes\n",
      "Elapsed time column: 204.664699999 minutes\n",
      "Elapsed time column: 206.888730117 minutes\n",
      "Elapsed time overall: 1159.69882595 minutes\n",
      "(8607230, 3)\n"
     ]
    },
    {
     "ename": "KeyError",
     "evalue": "'l1'",
     "output_type": "error",
     "traceback": [
      "\u001b[0;31m---------------------------------------------------------------------------\u001b[0m",
      "\u001b[0;31mKeyError\u001b[0m                                  Traceback (most recent call last)",
      "\u001b[0;32m<ipython-input-74-19dd33dc695d>\u001b[0m in \u001b[0;36m<module>\u001b[0;34m()\u001b[0m\n\u001b[1;32m      2\u001b[0m                     'xgb_150_02_008_extended_003-0015_th3_accuracy_adddata/', 3)\n\u001b[1;32m      3\u001b[0m \u001b[0;34m\u001b[0m\u001b[0m\n\u001b[0;32m----> 4\u001b[0;31m \u001b[0mpreds_total\u001b[0m\u001b[0;34m[\u001b[0m\u001b[0;34m'place_id'\u001b[0m\u001b[0;34m]\u001b[0m \u001b[0;34m=\u001b[0m \u001b[0mpreds_total\u001b[0m\u001b[0;34m[\u001b[0m\u001b[0;34m'l1'\u001b[0m\u001b[0;34m]\u001b[0m\u001b[0;34m.\u001b[0m\u001b[0mapply\u001b[0m\u001b[0;34m(\u001b[0m\u001b[0mstr\u001b[0m\u001b[0;34m)\u001b[0m \u001b[0;34m+\u001b[0m \u001b[0;34m' '\u001b[0m \u001b[0;34m+\u001b[0m \u001b[0mpreds_total\u001b[0m\u001b[0;34m[\u001b[0m\u001b[0;34m'l2'\u001b[0m\u001b[0;34m]\u001b[0m\u001b[0;34m.\u001b[0m\u001b[0mapply\u001b[0m\u001b[0;34m(\u001b[0m\u001b[0mstr\u001b[0m\u001b[0;34m)\u001b[0m \u001b[0;34m+\u001b[0m \u001b[0;34m' '\u001b[0m \u001b[0;34m+\u001b[0m \u001b[0mpreds_total\u001b[0m\u001b[0;34m[\u001b[0m\u001b[0;34m'l3'\u001b[0m\u001b[0;34m]\u001b[0m\u001b[0;34m.\u001b[0m\u001b[0mapply\u001b[0m\u001b[0;34m(\u001b[0m\u001b[0mstr\u001b[0m\u001b[0;34m)\u001b[0m\u001b[0;34m;\u001b[0m\u001b[0;34m\u001b[0m\u001b[0m\n\u001b[0m\u001b[1;32m      5\u001b[0m sub_file = os.path.join('xgb_150_02_008_extended_003-0015_th3_accuracy_adddata'\n\u001b[1;32m      6\u001b[0m                         + str(datetime.datetime.now().strftime(\"%Y-%m-%d-%H-%M\")) + '.csv')\n",
      "\u001b[0;32m/Library/Python/2.7/site-packages/pandas-0.17.1-py2.7-macosx-10.10-intel.egg/pandas/core/frame.pyc\u001b[0m in \u001b[0;36m__getitem__\u001b[0;34m(self, key)\u001b[0m\n\u001b[1;32m   1967\u001b[0m             \u001b[0;32mreturn\u001b[0m \u001b[0mself\u001b[0m\u001b[0;34m.\u001b[0m\u001b[0m_getitem_multilevel\u001b[0m\u001b[0;34m(\u001b[0m\u001b[0mkey\u001b[0m\u001b[0;34m)\u001b[0m\u001b[0;34m\u001b[0m\u001b[0m\n\u001b[1;32m   1968\u001b[0m         \u001b[0;32melse\u001b[0m\u001b[0;34m:\u001b[0m\u001b[0;34m\u001b[0m\u001b[0m\n\u001b[0;32m-> 1969\u001b[0;31m             \u001b[0;32mreturn\u001b[0m \u001b[0mself\u001b[0m\u001b[0;34m.\u001b[0m\u001b[0m_getitem_column\u001b[0m\u001b[0;34m(\u001b[0m\u001b[0mkey\u001b[0m\u001b[0;34m)\u001b[0m\u001b[0;34m\u001b[0m\u001b[0m\n\u001b[0m\u001b[1;32m   1970\u001b[0m \u001b[0;34m\u001b[0m\u001b[0m\n\u001b[1;32m   1971\u001b[0m     \u001b[0;32mdef\u001b[0m \u001b[0m_getitem_column\u001b[0m\u001b[0;34m(\u001b[0m\u001b[0mself\u001b[0m\u001b[0;34m,\u001b[0m \u001b[0mkey\u001b[0m\u001b[0;34m)\u001b[0m\u001b[0;34m:\u001b[0m\u001b[0;34m\u001b[0m\u001b[0m\n",
      "\u001b[0;32m/Library/Python/2.7/site-packages/pandas-0.17.1-py2.7-macosx-10.10-intel.egg/pandas/core/frame.pyc\u001b[0m in \u001b[0;36m_getitem_column\u001b[0;34m(self, key)\u001b[0m\n\u001b[1;32m   1974\u001b[0m         \u001b[0;31m# get column\u001b[0m\u001b[0;34m\u001b[0m\u001b[0;34m\u001b[0m\u001b[0m\n\u001b[1;32m   1975\u001b[0m         \u001b[0;32mif\u001b[0m \u001b[0mself\u001b[0m\u001b[0;34m.\u001b[0m\u001b[0mcolumns\u001b[0m\u001b[0;34m.\u001b[0m\u001b[0mis_unique\u001b[0m\u001b[0;34m:\u001b[0m\u001b[0;34m\u001b[0m\u001b[0m\n\u001b[0;32m-> 1976\u001b[0;31m             \u001b[0;32mreturn\u001b[0m \u001b[0mself\u001b[0m\u001b[0;34m.\u001b[0m\u001b[0m_get_item_cache\u001b[0m\u001b[0;34m(\u001b[0m\u001b[0mkey\u001b[0m\u001b[0;34m)\u001b[0m\u001b[0;34m\u001b[0m\u001b[0m\n\u001b[0m\u001b[1;32m   1977\u001b[0m \u001b[0;34m\u001b[0m\u001b[0m\n\u001b[1;32m   1978\u001b[0m         \u001b[0;31m# duplicate columns & possible reduce dimensionality\u001b[0m\u001b[0;34m\u001b[0m\u001b[0;34m\u001b[0m\u001b[0m\n",
      "\u001b[0;32m/Library/Python/2.7/site-packages/pandas-0.17.1-py2.7-macosx-10.10-intel.egg/pandas/core/generic.pyc\u001b[0m in \u001b[0;36m_get_item_cache\u001b[0;34m(self, item)\u001b[0m\n\u001b[1;32m   1089\u001b[0m         \u001b[0mres\u001b[0m \u001b[0;34m=\u001b[0m \u001b[0mcache\u001b[0m\u001b[0;34m.\u001b[0m\u001b[0mget\u001b[0m\u001b[0;34m(\u001b[0m\u001b[0mitem\u001b[0m\u001b[0;34m)\u001b[0m\u001b[0;34m\u001b[0m\u001b[0m\n\u001b[1;32m   1090\u001b[0m         \u001b[0;32mif\u001b[0m \u001b[0mres\u001b[0m \u001b[0;32mis\u001b[0m \u001b[0mNone\u001b[0m\u001b[0;34m:\u001b[0m\u001b[0;34m\u001b[0m\u001b[0m\n\u001b[0;32m-> 1091\u001b[0;31m             \u001b[0mvalues\u001b[0m \u001b[0;34m=\u001b[0m \u001b[0mself\u001b[0m\u001b[0;34m.\u001b[0m\u001b[0m_data\u001b[0m\u001b[0;34m.\u001b[0m\u001b[0mget\u001b[0m\u001b[0;34m(\u001b[0m\u001b[0mitem\u001b[0m\u001b[0;34m)\u001b[0m\u001b[0;34m\u001b[0m\u001b[0m\n\u001b[0m\u001b[1;32m   1092\u001b[0m             \u001b[0mres\u001b[0m \u001b[0;34m=\u001b[0m \u001b[0mself\u001b[0m\u001b[0;34m.\u001b[0m\u001b[0m_box_item_values\u001b[0m\u001b[0;34m(\u001b[0m\u001b[0mitem\u001b[0m\u001b[0;34m,\u001b[0m \u001b[0mvalues\u001b[0m\u001b[0;34m)\u001b[0m\u001b[0;34m\u001b[0m\u001b[0m\n\u001b[1;32m   1093\u001b[0m             \u001b[0mcache\u001b[0m\u001b[0;34m[\u001b[0m\u001b[0mitem\u001b[0m\u001b[0;34m]\u001b[0m \u001b[0;34m=\u001b[0m \u001b[0mres\u001b[0m\u001b[0;34m\u001b[0m\u001b[0m\n",
      "\u001b[0;32m/Library/Python/2.7/site-packages/pandas-0.17.1-py2.7-macosx-10.10-intel.egg/pandas/core/internals.pyc\u001b[0m in \u001b[0;36mget\u001b[0;34m(self, item, fastpath)\u001b[0m\n\u001b[1;32m   3209\u001b[0m \u001b[0;34m\u001b[0m\u001b[0m\n\u001b[1;32m   3210\u001b[0m             \u001b[0;32mif\u001b[0m \u001b[0;32mnot\u001b[0m \u001b[0misnull\u001b[0m\u001b[0;34m(\u001b[0m\u001b[0mitem\u001b[0m\u001b[0;34m)\u001b[0m\u001b[0;34m:\u001b[0m\u001b[0;34m\u001b[0m\u001b[0m\n\u001b[0;32m-> 3211\u001b[0;31m                 \u001b[0mloc\u001b[0m \u001b[0;34m=\u001b[0m \u001b[0mself\u001b[0m\u001b[0;34m.\u001b[0m\u001b[0mitems\u001b[0m\u001b[0;34m.\u001b[0m\u001b[0mget_loc\u001b[0m\u001b[0;34m(\u001b[0m\u001b[0mitem\u001b[0m\u001b[0;34m)\u001b[0m\u001b[0;34m\u001b[0m\u001b[0m\n\u001b[0m\u001b[1;32m   3212\u001b[0m             \u001b[0;32melse\u001b[0m\u001b[0;34m:\u001b[0m\u001b[0;34m\u001b[0m\u001b[0m\n\u001b[1;32m   3213\u001b[0m                 \u001b[0mindexer\u001b[0m \u001b[0;34m=\u001b[0m \u001b[0mnp\u001b[0m\u001b[0;34m.\u001b[0m\u001b[0marange\u001b[0m\u001b[0;34m(\u001b[0m\u001b[0mlen\u001b[0m\u001b[0;34m(\u001b[0m\u001b[0mself\u001b[0m\u001b[0;34m.\u001b[0m\u001b[0mitems\u001b[0m\u001b[0;34m)\u001b[0m\u001b[0;34m)\u001b[0m\u001b[0;34m[\u001b[0m\u001b[0misnull\u001b[0m\u001b[0;34m(\u001b[0m\u001b[0mself\u001b[0m\u001b[0;34m.\u001b[0m\u001b[0mitems\u001b[0m\u001b[0;34m)\u001b[0m\u001b[0;34m]\u001b[0m\u001b[0;34m\u001b[0m\u001b[0m\n",
      "\u001b[0;32m/Library/Python/2.7/site-packages/pandas-0.17.1-py2.7-macosx-10.10-intel.egg/pandas/core/index.pyc\u001b[0m in \u001b[0;36mget_loc\u001b[0;34m(self, key, method, tolerance)\u001b[0m\n\u001b[1;32m   1757\u001b[0m                                  'backfill or nearest lookups')\n\u001b[1;32m   1758\u001b[0m             \u001b[0mkey\u001b[0m \u001b[0;34m=\u001b[0m \u001b[0m_values_from_object\u001b[0m\u001b[0;34m(\u001b[0m\u001b[0mkey\u001b[0m\u001b[0;34m)\u001b[0m\u001b[0;34m\u001b[0m\u001b[0m\n\u001b[0;32m-> 1759\u001b[0;31m             \u001b[0;32mreturn\u001b[0m \u001b[0mself\u001b[0m\u001b[0;34m.\u001b[0m\u001b[0m_engine\u001b[0m\u001b[0;34m.\u001b[0m\u001b[0mget_loc\u001b[0m\u001b[0;34m(\u001b[0m\u001b[0mkey\u001b[0m\u001b[0;34m)\u001b[0m\u001b[0;34m\u001b[0m\u001b[0m\n\u001b[0m\u001b[1;32m   1760\u001b[0m \u001b[0;34m\u001b[0m\u001b[0m\n\u001b[1;32m   1761\u001b[0m         indexer = self.get_indexer([key], method=method,\n",
      "\u001b[0;32mpandas/index.pyx\u001b[0m in \u001b[0;36mpandas.index.IndexEngine.get_loc (pandas/index.c:3979)\u001b[0;34m()\u001b[0m\n",
      "\u001b[0;32mpandas/index.pyx\u001b[0m in \u001b[0;36mpandas.index.IndexEngine.get_loc (pandas/index.c:3908)\u001b[0;34m()\u001b[0m\n",
      "\u001b[0;31mKeyError\u001b[0m: 'l1'"
     ]
    }
   ],
   "source": [
    "preds_total = modelq(x_ranges, y_ranges, size, size, train, test, \n",
    "                    'xgb_150_02_008_extended_003-0015_th3_accuracy_adddata/', 3)\n",
    "\n",
    "preds_total['place_id'] = preds_total['l1'].apply(str) + ' ' + preds_total['l2'].apply(str) + ' ' + preds_total['l3'].apply(str);\n",
    "sub_file = os.path.join('xgb_150_02_008_extended_003-0015_th3_accuracy_adddata'\n",
    "                        + str(datetime.datetime.now().strftime(\"%Y-%m-%d-%H-%M\")) + '.csv')\n",
    "preds_total[['row_id','place_id']].to_csv(sub_file, index = False);\n",
    "print sub_file"
   ]
  },
  {
   "cell_type": "code",
   "execution_count": 75,
   "metadata": {
    "collapsed": false
   },
   "outputs": [
    {
     "data": {
      "text/plain": [
       "(8607230, 3)"
      ]
     },
     "execution_count": 75,
     "metadata": {},
     "output_type": "execute_result"
    }
   ],
   "source": [
    "preds_total.shape"
   ]
  },
  {
   "cell_type": "code",
   "execution_count": 76,
   "metadata": {
    "collapsed": false
   },
   "outputs": [
    {
     "data": {
      "text/html": [
       "<div>\n",
       "<table border=\"1\" class=\"dataframe\">\n",
       "  <thead>\n",
       "    <tr style=\"text-align: right;\">\n",
       "      <th></th>\n",
       "      <th>0</th>\n",
       "      <th>1</th>\n",
       "      <th>2</th>\n",
       "    </tr>\n",
       "    <tr>\n",
       "      <th>row_id</th>\n",
       "      <th></th>\n",
       "      <th></th>\n",
       "      <th></th>\n",
       "    </tr>\n",
       "  </thead>\n",
       "  <tbody>\n",
       "    <tr>\n",
       "      <th>0</th>\n",
       "      <td>3831655216</td>\n",
       "      <td>6131996960</td>\n",
       "      <td>1466246422</td>\n",
       "    </tr>\n",
       "    <tr>\n",
       "      <th>1</th>\n",
       "      <td>2465239230</td>\n",
       "      <td>5801740503</td>\n",
       "      <td>4634106612</td>\n",
       "    </tr>\n",
       "    <tr>\n",
       "      <th>2</th>\n",
       "      <td>2516481553</td>\n",
       "      <td>7862615088</td>\n",
       "      <td>5946611563</td>\n",
       "    </tr>\n",
       "    <tr>\n",
       "      <th>3</th>\n",
       "      <td>7995458948</td>\n",
       "      <td>8643187406</td>\n",
       "      <td>8393706174</td>\n",
       "    </tr>\n",
       "    <tr>\n",
       "      <th>4</th>\n",
       "      <td>4764406629</td>\n",
       "      <td>8277155346</td>\n",
       "      <td>8711861736</td>\n",
       "    </tr>\n",
       "    <tr>\n",
       "      <th>5</th>\n",
       "      <td>8370753254</td>\n",
       "      <td>9727638738</td>\n",
       "      <td>6305916485</td>\n",
       "    </tr>\n",
       "    <tr>\n",
       "      <th>6</th>\n",
       "      <td>7283245557</td>\n",
       "      <td>9054319794</td>\n",
       "      <td>7282698430</td>\n",
       "    </tr>\n",
       "    <tr>\n",
       "      <th>7</th>\n",
       "      <td>4346049470</td>\n",
       "      <td>9175474378</td>\n",
       "      <td>2247481267</td>\n",
       "    </tr>\n",
       "    <tr>\n",
       "      <th>8</th>\n",
       "      <td>6470278079</td>\n",
       "      <td>9340499987</td>\n",
       "      <td>6421756522</td>\n",
       "    </tr>\n",
       "    <tr>\n",
       "      <th>9</th>\n",
       "      <td>3894834079</td>\n",
       "      <td>6980929490</td>\n",
       "      <td>4495746994</td>\n",
       "    </tr>\n",
       "  </tbody>\n",
       "</table>\n",
       "</div>"
      ],
      "text/plain": [
       "                 0           1           2\n",
       "row_id                                    \n",
       "0       3831655216  6131996960  1466246422\n",
       "1       2465239230  5801740503  4634106612\n",
       "2       2516481553  7862615088  5946611563\n",
       "3       7995458948  8643187406  8393706174\n",
       "4       4764406629  8277155346  8711861736\n",
       "5       8370753254  9727638738  6305916485\n",
       "6       7283245557  9054319794  7282698430\n",
       "7       4346049470  9175474378  2247481267\n",
       "8       6470278079  9340499987  6421756522\n",
       "9       3894834079  6980929490  4495746994"
      ]
     },
     "execution_count": 76,
     "metadata": {},
     "output_type": "execute_result"
    }
   ],
   "source": [
    "preds_total[:10]"
   ]
  },
  {
   "cell_type": "code",
   "execution_count": 83,
   "metadata": {
    "collapsed": false
   },
   "outputs": [
    {
     "data": {
      "text/html": [
       "<div>\n",
       "<table border=\"1\" class=\"dataframe\">\n",
       "  <thead>\n",
       "    <tr style=\"text-align: right;\">\n",
       "      <th></th>\n",
       "      <th>l1</th>\n",
       "      <th>l2</th>\n",
       "      <th>l3</th>\n",
       "    </tr>\n",
       "    <tr>\n",
       "      <th>row_id</th>\n",
       "      <th></th>\n",
       "      <th></th>\n",
       "      <th></th>\n",
       "    </tr>\n",
       "  </thead>\n",
       "  <tbody>\n",
       "    <tr>\n",
       "      <th>8607220</th>\n",
       "      <td>9924871949</td>\n",
       "      <td>1023555506</td>\n",
       "      <td>8253094049</td>\n",
       "    </tr>\n",
       "    <tr>\n",
       "      <th>8607221</th>\n",
       "      <td>8933542378</td>\n",
       "      <td>7878855704</td>\n",
       "      <td>5378587809</td>\n",
       "    </tr>\n",
       "    <tr>\n",
       "      <th>8607222</th>\n",
       "      <td>4683526794</td>\n",
       "      <td>2813163259</td>\n",
       "      <td>7429659042</td>\n",
       "    </tr>\n",
       "    <tr>\n",
       "      <th>8607223</th>\n",
       "      <td>9244044921</td>\n",
       "      <td>2614601100</td>\n",
       "      <td>3628085189</td>\n",
       "    </tr>\n",
       "    <tr>\n",
       "      <th>8607224</th>\n",
       "      <td>7519528207</td>\n",
       "      <td>7336608920</td>\n",
       "      <td>7053690910</td>\n",
       "    </tr>\n",
       "    <tr>\n",
       "      <th>8607225</th>\n",
       "      <td>6388207576</td>\n",
       "      <td>1450752225</td>\n",
       "      <td>4798840125</td>\n",
       "    </tr>\n",
       "    <tr>\n",
       "      <th>8607226</th>\n",
       "      <td>9482625693</td>\n",
       "      <td>4985409672</td>\n",
       "      <td>3071064812</td>\n",
       "    </tr>\n",
       "    <tr>\n",
       "      <th>8607227</th>\n",
       "      <td>6422555124</td>\n",
       "      <td>9466512367</td>\n",
       "      <td>3066735997</td>\n",
       "    </tr>\n",
       "    <tr>\n",
       "      <th>8607228</th>\n",
       "      <td>6645978051</td>\n",
       "      <td>2649611830</td>\n",
       "      <td>6144260946</td>\n",
       "    </tr>\n",
       "    <tr>\n",
       "      <th>8607229</th>\n",
       "      <td>2341683842</td>\n",
       "      <td>1221929656</td>\n",
       "      <td>4358647823</td>\n",
       "    </tr>\n",
       "  </tbody>\n",
       "</table>\n",
       "</div>"
      ],
      "text/plain": [
       "                 l1          l2          l3\n",
       "row_id                                     \n",
       "8607220  9924871949  1023555506  8253094049\n",
       "8607221  8933542378  7878855704  5378587809\n",
       "8607222  4683526794  2813163259  7429659042\n",
       "8607223  9244044921  2614601100  3628085189\n",
       "8607224  7519528207  7336608920  7053690910\n",
       "8607225  6388207576  1450752225  4798840125\n",
       "8607226  9482625693  4985409672  3071064812\n",
       "8607227  6422555124  9466512367  3066735997\n",
       "8607228  6645978051  2649611830  6144260946\n",
       "8607229  2341683842  1221929656  4358647823"
      ]
     },
     "execution_count": 83,
     "metadata": {},
     "output_type": "execute_result"
    }
   ],
   "source": [
    "preds_total[-10:]"
   ]
  },
  {
   "cell_type": "code",
   "execution_count": 84,
   "metadata": {
    "collapsed": false
   },
   "outputs": [],
   "source": [
    "preds_total = pd.DataFrame(preds_total, dtype=str, columns=['l1', 'l2', 'l3'])\n",
    "#Concatenating the 3 predictions for each sample\n",
    "ds_sub = preds_total.l1.str.cat([preds_total.l2, preds_total.l3], sep=' ')\n",
    "ds_sub.name = 'place_id'\n",
    "ds_sub.to_csv('xgb_150_02_008_extended_003-0015_th3_accuracy_adddata1', index=True, header=True, index_label='row_id')"
   ]
  },
  {
   "cell_type": "code",
   "execution_count": null,
   "metadata": {
    "collapsed": true
   },
   "outputs": [],
   "source": []
  }
 ],
 "metadata": {
  "kernelspec": {
   "display_name": "Python 2",
   "language": "python",
   "name": "python2"
  },
  "language_info": {
   "codemirror_mode": {
    "name": "ipython",
    "version": 2
   },
   "file_extension": ".py",
   "mimetype": "text/x-python",
   "name": "python",
   "nbconvert_exporter": "python",
   "pygments_lexer": "ipython2",
   "version": "2.7.10"
  }
 },
 "nbformat": 4,
 "nbformat_minor": 0
}
