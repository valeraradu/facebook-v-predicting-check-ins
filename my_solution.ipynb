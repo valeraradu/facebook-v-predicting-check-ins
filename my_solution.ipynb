{
 "cells": [
  {
   "cell_type": "code",
   "execution_count": 1,
   "metadata": {
    "collapsed": true
   },
   "outputs": [],
   "source": [
    "import xgboost as xgb\n",
    "\n",
    "from sklearn.linear_model import LogisticRegression\n",
    "\n",
    "import pandas as pd\n",
    "import numpy as np\n",
    "import datetime\n",
    "import time\n",
    "import os\n",
    "from sklearn.ensemble import GradientBoostingClassifier\n",
    "from sklearn.ensemble import RandomForestClassifier\n",
    "\n",
    "import multiprocessing\n",
    "from multiprocessing import Process\n",
    "from multiprocessing import Manager"
   ]
  },
  {
   "cell_type": "code",
   "execution_count": 2,
   "metadata": {
    "collapsed": true
   },
   "outputs": [],
   "source": [
    "train = pd.read_csv('./train.csv')\n",
    "test = pd.read_csv('./test.csv')"
   ]
  },
  {
   "cell_type": "code",
   "execution_count": 4,
   "metadata": {
    "collapsed": false
   },
   "outputs": [
    {
     "name": "stdout",
     "output_type": "stream",
     "text": [
      "(29118021, 6)\n",
      "(8607230, 5)\n",
      "Calculate hour, weekday, month and year for train and test\n",
      "shape after time engineering\n",
      "(29118021, 11)\n"
     ]
    }
   ],
   "source": [
    "size = 10.0;\n",
    "\n",
    "#train = train[(train['x'] >= 0) & (train['x'] <= size) & (train['y'] >= 0) & (train['y'] <= size)]\n",
    "#test = test[(test['x'] >= 0) & (test['x'] <= size) & (test['y'] >= 0) & (test['y'] <= size)]\n",
    "print train.shape\n",
    "print test.shape\n",
    "\n",
    "print('Calculate hour, weekday, month and year for train and test')\n",
    "train['hour'] = (train['time']//60)%24+1 # 1 to 24\n",
    "train['hour_decimal'] = (train['time']/60)%24+1 # 1 to 24\n",
    "train['weekday'] = (train['time']//1440)%7+1\n",
    "train['month'] = (train['time']//43200)%12+1 # rough estimate, month = 30 days\n",
    "train['year'] = (train['time']//525600)+1 \n",
    "\n",
    "test['hour'] = (test['time']//60)%24+1 # 1 to 24\n",
    "test['hour_decimal'] = (test['time']/60)%24+1 # 1 to 24\n",
    "test['weekday'] = (test['time']//1440)%7+1\n",
    "test['month'] = (test['time']//43200)%12+1 # rough estimate, month = 30 days\n",
    "test['year'] = (test['time']//525600)+1\n",
    "\n",
    "print 'shape after time engineering'\n",
    "print train.shape"
   ]
  },
  {
   "cell_type": "code",
   "execution_count": null,
   "metadata": {
    "collapsed": false,
    "scrolled": false
   },
   "outputs": [],
   "source": [
    "x_step = 0.5\n",
    "y_step = 0.02\n",
    "\n",
    "x_ranges = zip(np.arange(0, size, x_step), np.arange(x_step, size + x_step, x_step));\n",
    "y_ranges = zip(np.arange(0, size, y_step), np.arange(y_step, size + y_step, y_step));\n",
    "\n",
    "def worker(x_min, x_max, train, test, preds_total):\n",
    "    start_time_worker = time.time()\n",
    "    preds_total_worker = pd.DataFrame();\n",
    "    for y_min, y_max in  y_ranges: \n",
    "        start_time_cell = time.time()\n",
    "        x_max = round(x_max, 4)\n",
    "        x_min = round(x_min, 4)\n",
    "        \n",
    "        y_max = round(y_max, 4)\n",
    "        y_min = round(y_min, 4)\n",
    "        \n",
    "        if x_max == size:\n",
    "            x_max = x_max + 0.001\n",
    "            \n",
    "        if y_max == size:\n",
    "            y_max = y_max + 0.001\n",
    "            \n",
    "        train_grid = train[(train['x'] >= x_min) &\n",
    "                           (train['x'] < x_max) &\n",
    "                           (train['y'] >= y_min) &\n",
    "                           (train['y'] < y_max)]\n",
    "\n",
    "        test_grid = test[(test['x'] >= x_min) &\n",
    "                         (test['x'] < x_max) &\n",
    "                         (test['y'] >= y_min) &\n",
    "                         (test['y'] < y_max)]\n",
    "        \n",
    "        X_train_grid = train_grid[['x','y','accuracy','time', 'hour', 'hour_decimal', 'weekday', 'month', 'year']];\n",
    "        y_train_grid = train_grid[['place_id']].values.ravel();\n",
    "        X_test_grid = test_grid[['x','y','accuracy','time', 'hour', 'hour_decimal', 'weekday', 'month', 'year']];\n",
    "        \n",
    "        #clf = GradientBoostingClassifier();\n",
    "        #clf =  LogisticRegression(multi_class='multinomial', solver = 'lbfgs');\n",
    "        clf = xgb.XGBClassifier(n_estimators = 8, nthread = -1);\n",
    "        #clf = RandomForestClassifier(n_estimators = 300, n_jobs = -1);\n",
    "        clf.fit(X_train_grid, y_train_grid)\n",
    "        \n",
    "        preds = dict(zip([el for el in clf.classes_], zip(*clf.predict_proba(X_test_grid))))\n",
    "        preds = pd.DataFrame.from_dict(preds)\n",
    "                \n",
    "        preds['0_'], preds['1_'], preds['2_'] = zip(*preds.apply(lambda x: preds.columns[x.argsort()[::-1][:3]].tolist(), axis=1));\n",
    "        preds = preds[['0_','1_','2_']];\n",
    "        \n",
    "        preds['row_id'] = test_grid['row_id'].reset_index(drop=True);\n",
    "        \n",
    "        preds.to_csv('./raw/xgb1/' + x_min + '_' + y_min + '.csv')\n",
    "        preds_total_worker = pd.concat([preds_total_worker, preds], axis=0);\n",
    "        #print(\"Elapsed time cell: %s seconds\" % (time.time() - start_time_cell))\n",
    "    preds_total_worker.to_csv('./tots/xgb1/' + str(x_min) + '.csv');\n",
    "    preds_total[x_min] = preds_total_worker;\n",
    "    print(\"Elapsed time row: %s minuts\" % ((time.time() - start_time_worker)/60))\n",
    "\n",
    "\n",
    "start_time = time.time()\n",
    "\n",
    "jobs = []\n",
    "mgr = Manager()\n",
    "#ns = mgr.Namespace()\n",
    "preds_total = mgr.dict();\n",
    "\n",
    "for x_min, x_max in  x_ranges:\n",
    "    p = multiprocessing.Process(target=worker, args=(x_min, x_max, train, test, preds_total))\n",
    "    jobs.append(p)\n",
    "    p.start()\n",
    "\n",
    "for proc in jobs:\n",
    "    proc.join()\n",
    "\n",
    "preds_total = pd.concat(preds_total.values(), axis=0);\n",
    "\n",
    "print X_test.shape\n",
    "print preds_total.shape\n",
    "\n",
    "preds_total = preds_total.sort_values(by='row_id', axis=0, ascending=True);\n",
    "preds_total['place_id'] = preds_total['0_'].apply(str) + ' ' + preds_total['1_'].apply(str) + ' ' + preds_total['2_'].apply(str);\n",
    "\n",
    "sub_file = os.path.join('submission_from_disc$$_' + str(datetime.datetime.now().strftime(\"%Y-%m-%d-%H-%M\")) + '.csv')\n",
    "preds_total[['row_id','place_id']].to_csv(sub_file, index = False);\n",
    "\n",
    "print(\"Elapsed time overall: %s minuts\" % ((time.time() - start_time)/60))\n"
   ]
  },
  {
   "cell_type": "code",
   "execution_count": null,
   "metadata": {
    "collapsed": true
   },
   "outputs": [],
   "source": []
  }
 ],
 "metadata": {
  "kernelspec": {
   "display_name": "Python 2",
   "language": "python",
   "name": "python2"
  },
  "language_info": {
   "codemirror_mode": {
    "name": "ipython",
    "version": 2
   },
   "file_extension": ".py",
   "mimetype": "text/x-python",
   "name": "python",
   "nbconvert_exporter": "python",
   "pygments_lexer": "ipython2",
   "version": "2.7.10"
  }
 },
 "nbformat": 4,
 "nbformat_minor": 0
}
